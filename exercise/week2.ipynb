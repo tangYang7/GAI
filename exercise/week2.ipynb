{
  "nbformat": 4,
  "nbformat_minor": 0,
  "metadata": {
    "colab": {
      "provenance": [],
      "authorship_tag": "ABX9TyNjX0sYbtE3vIH1zc7A7t7W",
      "include_colab_link": true
    },
    "kernelspec": {
      "name": "python3",
      "display_name": "Python 3"
    },
    "language_info": {
      "name": "python"
    },
    "widgets": {
      "application/vnd.jupyter.widget-state+json": {
        "b6301599f32543bd9e7ac8b2c92a2658": {
          "model_module": "@jupyter-widgets/controls",
          "model_name": "VBoxModel",
          "model_module_version": "1.5.0",
          "state": {
            "_dom_classes": [
              "widget-interact"
            ],
            "_model_module": "@jupyter-widgets/controls",
            "_model_module_version": "1.5.0",
            "_model_name": "VBoxModel",
            "_view_count": null,
            "_view_module": "@jupyter-widgets/controls",
            "_view_module_version": "1.5.0",
            "_view_name": "VBoxView",
            "box_style": "",
            "children": [
              "IPY_MODEL_33886e6ce11e40808430f0846d6cf974",
              "IPY_MODEL_c56c364f82b4455f9df5f5c3951585ea",
              "IPY_MODEL_dbadf9e995b04f368f512b327e06d5f1"
            ],
            "layout": "IPY_MODEL_36a6e8575f5c4ff39649d75ddad07981"
          }
        },
        "33886e6ce11e40808430f0846d6cf974": {
          "model_module": "@jupyter-widgets/controls",
          "model_name": "IntSliderModel",
          "model_module_version": "1.5.0",
          "state": {
            "_dom_classes": [],
            "_model_module": "@jupyter-widgets/controls",
            "_model_module_version": "1.5.0",
            "_model_name": "IntSliderModel",
            "_view_count": null,
            "_view_module": "@jupyter-widgets/controls",
            "_view_module_version": "1.5.0",
            "_view_name": "IntSliderView",
            "continuous_update": true,
            "description": "n",
            "description_tooltip": null,
            "disabled": false,
            "layout": "IPY_MODEL_8e392850950e477da239e6b7a3a9d74a",
            "max": 59999,
            "min": 0,
            "orientation": "horizontal",
            "readout": true,
            "readout_format": "d",
            "step": 1,
            "style": "IPY_MODEL_62a87824a0ce47829bc580e11c10d051",
            "value": 0
          }
        },
        "c56c364f82b4455f9df5f5c3951585ea": {
          "model_module": "@jupyter-widgets/controls",
          "model_name": "ButtonModel",
          "model_module_version": "1.5.0",
          "state": {
            "_dom_classes": [],
            "_model_module": "@jupyter-widgets/controls",
            "_model_module_version": "1.5.0",
            "_model_name": "ButtonModel",
            "_view_count": null,
            "_view_module": "@jupyter-widgets/controls",
            "_view_module_version": "1.5.0",
            "_view_name": "ButtonView",
            "button_style": "",
            "description": "Run Interact",
            "disabled": false,
            "icon": "",
            "layout": "IPY_MODEL_e874aec8cbff40f4a280070c36b5c5fe",
            "style": "IPY_MODEL_9d3b442e659b4b359ba57b290bb0201d",
            "tooltip": ""
          }
        },
        "dbadf9e995b04f368f512b327e06d5f1": {
          "model_module": "@jupyter-widgets/output",
          "model_name": "OutputModel",
          "model_module_version": "1.0.0",
          "state": {
            "_dom_classes": [],
            "_model_module": "@jupyter-widgets/output",
            "_model_module_version": "1.0.0",
            "_model_name": "OutputModel",
            "_view_count": null,
            "_view_module": "@jupyter-widgets/output",
            "_view_module_version": "1.0.0",
            "_view_name": "OutputView",
            "layout": "IPY_MODEL_9af6bb9bfe074bf9a696973c4c097b91",
            "msg_id": "",
            "outputs": []
          }
        },
        "36a6e8575f5c4ff39649d75ddad07981": {
          "model_module": "@jupyter-widgets/base",
          "model_name": "LayoutModel",
          "model_module_version": "1.2.0",
          "state": {
            "_model_module": "@jupyter-widgets/base",
            "_model_module_version": "1.2.0",
            "_model_name": "LayoutModel",
            "_view_count": null,
            "_view_module": "@jupyter-widgets/base",
            "_view_module_version": "1.2.0",
            "_view_name": "LayoutView",
            "align_content": null,
            "align_items": null,
            "align_self": null,
            "border": null,
            "bottom": null,
            "display": null,
            "flex": null,
            "flex_flow": null,
            "grid_area": null,
            "grid_auto_columns": null,
            "grid_auto_flow": null,
            "grid_auto_rows": null,
            "grid_column": null,
            "grid_gap": null,
            "grid_row": null,
            "grid_template_areas": null,
            "grid_template_columns": null,
            "grid_template_rows": null,
            "height": null,
            "justify_content": null,
            "justify_items": null,
            "left": null,
            "margin": null,
            "max_height": null,
            "max_width": null,
            "min_height": null,
            "min_width": null,
            "object_fit": null,
            "object_position": null,
            "order": null,
            "overflow": null,
            "overflow_x": null,
            "overflow_y": null,
            "padding": null,
            "right": null,
            "top": null,
            "visibility": null,
            "width": null
          }
        },
        "8e392850950e477da239e6b7a3a9d74a": {
          "model_module": "@jupyter-widgets/base",
          "model_name": "LayoutModel",
          "model_module_version": "1.2.0",
          "state": {
            "_model_module": "@jupyter-widgets/base",
            "_model_module_version": "1.2.0",
            "_model_name": "LayoutModel",
            "_view_count": null,
            "_view_module": "@jupyter-widgets/base",
            "_view_module_version": "1.2.0",
            "_view_name": "LayoutView",
            "align_content": null,
            "align_items": null,
            "align_self": null,
            "border": null,
            "bottom": null,
            "display": null,
            "flex": null,
            "flex_flow": null,
            "grid_area": null,
            "grid_auto_columns": null,
            "grid_auto_flow": null,
            "grid_auto_rows": null,
            "grid_column": null,
            "grid_gap": null,
            "grid_row": null,
            "grid_template_areas": null,
            "grid_template_columns": null,
            "grid_template_rows": null,
            "height": null,
            "justify_content": null,
            "justify_items": null,
            "left": null,
            "margin": null,
            "max_height": null,
            "max_width": null,
            "min_height": null,
            "min_width": null,
            "object_fit": null,
            "object_position": null,
            "order": null,
            "overflow": null,
            "overflow_x": null,
            "overflow_y": null,
            "padding": null,
            "right": null,
            "top": null,
            "visibility": null,
            "width": null
          }
        },
        "62a87824a0ce47829bc580e11c10d051": {
          "model_module": "@jupyter-widgets/controls",
          "model_name": "SliderStyleModel",
          "model_module_version": "1.5.0",
          "state": {
            "_model_module": "@jupyter-widgets/controls",
            "_model_module_version": "1.5.0",
            "_model_name": "SliderStyleModel",
            "_view_count": null,
            "_view_module": "@jupyter-widgets/base",
            "_view_module_version": "1.2.0",
            "_view_name": "StyleView",
            "description_width": "",
            "handle_color": null
          }
        },
        "e874aec8cbff40f4a280070c36b5c5fe": {
          "model_module": "@jupyter-widgets/base",
          "model_name": "LayoutModel",
          "model_module_version": "1.2.0",
          "state": {
            "_model_module": "@jupyter-widgets/base",
            "_model_module_version": "1.2.0",
            "_model_name": "LayoutModel",
            "_view_count": null,
            "_view_module": "@jupyter-widgets/base",
            "_view_module_version": "1.2.0",
            "_view_name": "LayoutView",
            "align_content": null,
            "align_items": null,
            "align_self": null,
            "border": null,
            "bottom": null,
            "display": null,
            "flex": null,
            "flex_flow": null,
            "grid_area": null,
            "grid_auto_columns": null,
            "grid_auto_flow": null,
            "grid_auto_rows": null,
            "grid_column": null,
            "grid_gap": null,
            "grid_row": null,
            "grid_template_areas": null,
            "grid_template_columns": null,
            "grid_template_rows": null,
            "height": null,
            "justify_content": null,
            "justify_items": null,
            "left": null,
            "margin": null,
            "max_height": null,
            "max_width": null,
            "min_height": null,
            "min_width": null,
            "object_fit": null,
            "object_position": null,
            "order": null,
            "overflow": null,
            "overflow_x": null,
            "overflow_y": null,
            "padding": null,
            "right": null,
            "top": null,
            "visibility": null,
            "width": null
          }
        },
        "9d3b442e659b4b359ba57b290bb0201d": {
          "model_module": "@jupyter-widgets/controls",
          "model_name": "ButtonStyleModel",
          "model_module_version": "1.5.0",
          "state": {
            "_model_module": "@jupyter-widgets/controls",
            "_model_module_version": "1.5.0",
            "_model_name": "ButtonStyleModel",
            "_view_count": null,
            "_view_module": "@jupyter-widgets/base",
            "_view_module_version": "1.2.0",
            "_view_name": "StyleView",
            "button_color": null,
            "font_weight": ""
          }
        },
        "9af6bb9bfe074bf9a696973c4c097b91": {
          "model_module": "@jupyter-widgets/base",
          "model_name": "LayoutModel",
          "model_module_version": "1.2.0",
          "state": {
            "_model_module": "@jupyter-widgets/base",
            "_model_module_version": "1.2.0",
            "_model_name": "LayoutModel",
            "_view_count": null,
            "_view_module": "@jupyter-widgets/base",
            "_view_module_version": "1.2.0",
            "_view_name": "LayoutView",
            "align_content": null,
            "align_items": null,
            "align_self": null,
            "border": null,
            "bottom": null,
            "display": null,
            "flex": null,
            "flex_flow": null,
            "grid_area": null,
            "grid_auto_columns": null,
            "grid_auto_flow": null,
            "grid_auto_rows": null,
            "grid_column": null,
            "grid_gap": null,
            "grid_row": null,
            "grid_template_areas": null,
            "grid_template_columns": null,
            "grid_template_rows": null,
            "height": null,
            "justify_content": null,
            "justify_items": null,
            "left": null,
            "margin": null,
            "max_height": null,
            "max_width": null,
            "min_height": null,
            "min_width": null,
            "object_fit": null,
            "object_position": null,
            "order": null,
            "overflow": null,
            "overflow_x": null,
            "overflow_y": null,
            "padding": null,
            "right": null,
            "top": null,
            "visibility": null,
            "width": null
          }
        },
        "f25026d11ef942ba916b52b56165e62e": {
          "model_module": "@jupyter-widgets/controls",
          "model_name": "VBoxModel",
          "model_module_version": "1.5.0",
          "state": {
            "_dom_classes": [
              "widget-interact"
            ],
            "_model_module": "@jupyter-widgets/controls",
            "_model_module_version": "1.5.0",
            "_model_name": "VBoxModel",
            "_view_count": null,
            "_view_module": "@jupyter-widgets/controls",
            "_view_module_version": "1.5.0",
            "_view_name": "VBoxView",
            "box_style": "",
            "children": [
              "IPY_MODEL_f111ffadaf684eb988dbacee1fd00ff3",
              "IPY_MODEL_0bd44c9f8f5b45f58d8e7a8db48f934d",
              "IPY_MODEL_55bc6d7e3b0a42d69f717e290de9bf9a"
            ],
            "layout": "IPY_MODEL_51e71affaa054a698cfd467b5a5bec2f"
          }
        },
        "f111ffadaf684eb988dbacee1fd00ff3": {
          "model_module": "@jupyter-widgets/controls",
          "model_name": "IntSliderModel",
          "model_module_version": "1.5.0",
          "state": {
            "_dom_classes": [],
            "_model_module": "@jupyter-widgets/controls",
            "_model_module_version": "1.5.0",
            "_model_name": "IntSliderModel",
            "_view_count": null,
            "_view_module": "@jupyter-widgets/controls",
            "_view_module_version": "1.5.0",
            "_view_name": "IntSliderView",
            "continuous_update": true,
            "description": "n",
            "description_tooltip": null,
            "disabled": false,
            "layout": "IPY_MODEL_0ed71371183247b19a7546ec045337ac",
            "max": 59999,
            "min": 0,
            "orientation": "horizontal",
            "readout": true,
            "readout_format": "d",
            "step": 1,
            "style": "IPY_MODEL_4c8fd12dd8e74207881775e81203c3c8",
            "value": 100
          }
        },
        "0bd44c9f8f5b45f58d8e7a8db48f934d": {
          "model_module": "@jupyter-widgets/controls",
          "model_name": "ButtonModel",
          "model_module_version": "1.5.0",
          "state": {
            "_dom_classes": [],
            "_model_module": "@jupyter-widgets/controls",
            "_model_module_version": "1.5.0",
            "_model_name": "ButtonModel",
            "_view_count": null,
            "_view_module": "@jupyter-widgets/controls",
            "_view_module_version": "1.5.0",
            "_view_name": "ButtonView",
            "button_style": "",
            "description": "Run Interact",
            "disabled": false,
            "icon": "",
            "layout": "IPY_MODEL_402c0d6d3ca340b6b53b698abaf4b316",
            "style": "IPY_MODEL_b61a78bb8f56464386eb4f4b8f1cb06d",
            "tooltip": ""
          }
        },
        "55bc6d7e3b0a42d69f717e290de9bf9a": {
          "model_module": "@jupyter-widgets/output",
          "model_name": "OutputModel",
          "model_module_version": "1.0.0",
          "state": {
            "_dom_classes": [],
            "_model_module": "@jupyter-widgets/output",
            "_model_module_version": "1.0.0",
            "_model_name": "OutputModel",
            "_view_count": null,
            "_view_module": "@jupyter-widgets/output",
            "_view_module_version": "1.0.0",
            "_view_name": "OutputView",
            "layout": "IPY_MODEL_43c115749085434d912842b3acdb3558",
            "msg_id": "",
            "outputs": []
          }
        },
        "51e71affaa054a698cfd467b5a5bec2f": {
          "model_module": "@jupyter-widgets/base",
          "model_name": "LayoutModel",
          "model_module_version": "1.2.0",
          "state": {
            "_model_module": "@jupyter-widgets/base",
            "_model_module_version": "1.2.0",
            "_model_name": "LayoutModel",
            "_view_count": null,
            "_view_module": "@jupyter-widgets/base",
            "_view_module_version": "1.2.0",
            "_view_name": "LayoutView",
            "align_content": null,
            "align_items": null,
            "align_self": null,
            "border": null,
            "bottom": null,
            "display": null,
            "flex": null,
            "flex_flow": null,
            "grid_area": null,
            "grid_auto_columns": null,
            "grid_auto_flow": null,
            "grid_auto_rows": null,
            "grid_column": null,
            "grid_gap": null,
            "grid_row": null,
            "grid_template_areas": null,
            "grid_template_columns": null,
            "grid_template_rows": null,
            "height": null,
            "justify_content": null,
            "justify_items": null,
            "left": null,
            "margin": null,
            "max_height": null,
            "max_width": null,
            "min_height": null,
            "min_width": null,
            "object_fit": null,
            "object_position": null,
            "order": null,
            "overflow": null,
            "overflow_x": null,
            "overflow_y": null,
            "padding": null,
            "right": null,
            "top": null,
            "visibility": null,
            "width": null
          }
        },
        "0ed71371183247b19a7546ec045337ac": {
          "model_module": "@jupyter-widgets/base",
          "model_name": "LayoutModel",
          "model_module_version": "1.2.0",
          "state": {
            "_model_module": "@jupyter-widgets/base",
            "_model_module_version": "1.2.0",
            "_model_name": "LayoutModel",
            "_view_count": null,
            "_view_module": "@jupyter-widgets/base",
            "_view_module_version": "1.2.0",
            "_view_name": "LayoutView",
            "align_content": null,
            "align_items": null,
            "align_self": null,
            "border": null,
            "bottom": null,
            "display": null,
            "flex": null,
            "flex_flow": null,
            "grid_area": null,
            "grid_auto_columns": null,
            "grid_auto_flow": null,
            "grid_auto_rows": null,
            "grid_column": null,
            "grid_gap": null,
            "grid_row": null,
            "grid_template_areas": null,
            "grid_template_columns": null,
            "grid_template_rows": null,
            "height": null,
            "justify_content": null,
            "justify_items": null,
            "left": null,
            "margin": null,
            "max_height": null,
            "max_width": null,
            "min_height": null,
            "min_width": null,
            "object_fit": null,
            "object_position": null,
            "order": null,
            "overflow": null,
            "overflow_x": null,
            "overflow_y": null,
            "padding": null,
            "right": null,
            "top": null,
            "visibility": null,
            "width": null
          }
        },
        "4c8fd12dd8e74207881775e81203c3c8": {
          "model_module": "@jupyter-widgets/controls",
          "model_name": "SliderStyleModel",
          "model_module_version": "1.5.0",
          "state": {
            "_model_module": "@jupyter-widgets/controls",
            "_model_module_version": "1.5.0",
            "_model_name": "SliderStyleModel",
            "_view_count": null,
            "_view_module": "@jupyter-widgets/base",
            "_view_module_version": "1.2.0",
            "_view_name": "StyleView",
            "description_width": "",
            "handle_color": null
          }
        },
        "402c0d6d3ca340b6b53b698abaf4b316": {
          "model_module": "@jupyter-widgets/base",
          "model_name": "LayoutModel",
          "model_module_version": "1.2.0",
          "state": {
            "_model_module": "@jupyter-widgets/base",
            "_model_module_version": "1.2.0",
            "_model_name": "LayoutModel",
            "_view_count": null,
            "_view_module": "@jupyter-widgets/base",
            "_view_module_version": "1.2.0",
            "_view_name": "LayoutView",
            "align_content": null,
            "align_items": null,
            "align_self": null,
            "border": null,
            "bottom": null,
            "display": null,
            "flex": null,
            "flex_flow": null,
            "grid_area": null,
            "grid_auto_columns": null,
            "grid_auto_flow": null,
            "grid_auto_rows": null,
            "grid_column": null,
            "grid_gap": null,
            "grid_row": null,
            "grid_template_areas": null,
            "grid_template_columns": null,
            "grid_template_rows": null,
            "height": null,
            "justify_content": null,
            "justify_items": null,
            "left": null,
            "margin": null,
            "max_height": null,
            "max_width": null,
            "min_height": null,
            "min_width": null,
            "object_fit": null,
            "object_position": null,
            "order": null,
            "overflow": null,
            "overflow_x": null,
            "overflow_y": null,
            "padding": null,
            "right": null,
            "top": null,
            "visibility": null,
            "width": null
          }
        },
        "b61a78bb8f56464386eb4f4b8f1cb06d": {
          "model_module": "@jupyter-widgets/controls",
          "model_name": "ButtonStyleModel",
          "model_module_version": "1.5.0",
          "state": {
            "_model_module": "@jupyter-widgets/controls",
            "_model_module_version": "1.5.0",
            "_model_name": "ButtonStyleModel",
            "_view_count": null,
            "_view_module": "@jupyter-widgets/base",
            "_view_module_version": "1.2.0",
            "_view_name": "StyleView",
            "button_color": null,
            "font_weight": ""
          }
        },
        "43c115749085434d912842b3acdb3558": {
          "model_module": "@jupyter-widgets/base",
          "model_name": "LayoutModel",
          "model_module_version": "1.2.0",
          "state": {
            "_model_module": "@jupyter-widgets/base",
            "_model_module_version": "1.2.0",
            "_model_name": "LayoutModel",
            "_view_count": null,
            "_view_module": "@jupyter-widgets/base",
            "_view_module_version": "1.2.0",
            "_view_name": "LayoutView",
            "align_content": null,
            "align_items": null,
            "align_self": null,
            "border": null,
            "bottom": null,
            "display": null,
            "flex": null,
            "flex_flow": null,
            "grid_area": null,
            "grid_auto_columns": null,
            "grid_auto_flow": null,
            "grid_auto_rows": null,
            "grid_column": null,
            "grid_gap": null,
            "grid_row": null,
            "grid_template_areas": null,
            "grid_template_columns": null,
            "grid_template_rows": null,
            "height": null,
            "justify_content": null,
            "justify_items": null,
            "left": null,
            "margin": null,
            "max_height": null,
            "max_width": null,
            "min_height": null,
            "min_width": null,
            "object_fit": null,
            "object_position": null,
            "order": null,
            "overflow": null,
            "overflow_x": null,
            "overflow_y": null,
            "padding": null,
            "right": null,
            "top": null,
            "visibility": null,
            "width": null
          }
        },
        "652ec0352c9d4840976f23d06ac2f023": {
          "model_module": "@jupyter-widgets/controls",
          "model_name": "VBoxModel",
          "model_module_version": "1.5.0",
          "state": {
            "_dom_classes": [
              "widget-interact"
            ],
            "_model_module": "@jupyter-widgets/controls",
            "_model_module_version": "1.5.0",
            "_model_name": "VBoxModel",
            "_view_count": null,
            "_view_module": "@jupyter-widgets/controls",
            "_view_module_version": "1.5.0",
            "_view_name": "VBoxView",
            "box_style": "",
            "children": [
              "IPY_MODEL_807a25d1bebb47a29d47721cbbb8bf58",
              "IPY_MODEL_6e4888d6157d4caaba0a35b9b60728b5",
              "IPY_MODEL_5d44d838e59e4ddf9a2c41a1178beca3"
            ],
            "layout": "IPY_MODEL_abd65e2929e548cfb469fc7e718defbc"
          }
        },
        "807a25d1bebb47a29d47721cbbb8bf58": {
          "model_module": "@jupyter-widgets/controls",
          "model_name": "IntSliderModel",
          "model_module_version": "1.5.0",
          "state": {
            "_dom_classes": [],
            "_model_module": "@jupyter-widgets/controls",
            "_model_module_version": "1.5.0",
            "_model_name": "IntSliderModel",
            "_view_count": null,
            "_view_module": "@jupyter-widgets/controls",
            "_view_module_version": "1.5.0",
            "_view_name": "IntSliderView",
            "continuous_update": true,
            "description": "test_id",
            "description_tooltip": null,
            "disabled": false,
            "layout": "IPY_MODEL_7f8c5220ef5b475499f12fa409da43fb",
            "max": 9999,
            "min": 0,
            "orientation": "horizontal",
            "readout": true,
            "readout_format": "d",
            "step": 1,
            "style": "IPY_MODEL_5bf5a3809a88440495c6986068df99fb",
            "value": 4999
          }
        },
        "6e4888d6157d4caaba0a35b9b60728b5": {
          "model_module": "@jupyter-widgets/controls",
          "model_name": "ButtonModel",
          "model_module_version": "1.5.0",
          "state": {
            "_dom_classes": [],
            "_model_module": "@jupyter-widgets/controls",
            "_model_module_version": "1.5.0",
            "_model_name": "ButtonModel",
            "_view_count": null,
            "_view_module": "@jupyter-widgets/controls",
            "_view_module_version": "1.5.0",
            "_view_name": "ButtonView",
            "button_style": "",
            "description": "Run Interact",
            "disabled": false,
            "icon": "",
            "layout": "IPY_MODEL_13220c91251e448d9c51a77ac6908173",
            "style": "IPY_MODEL_31124624f5834d28b1e76ea18b5879aa",
            "tooltip": ""
          }
        },
        "5d44d838e59e4ddf9a2c41a1178beca3": {
          "model_module": "@jupyter-widgets/output",
          "model_name": "OutputModel",
          "model_module_version": "1.0.0",
          "state": {
            "_dom_classes": [],
            "_model_module": "@jupyter-widgets/output",
            "_model_module_version": "1.0.0",
            "_model_name": "OutputModel",
            "_view_count": null,
            "_view_module": "@jupyter-widgets/output",
            "_view_module_version": "1.0.0",
            "_view_name": "OutputView",
            "layout": "IPY_MODEL_635196a51286465abd9625b9902f0986",
            "msg_id": "",
            "outputs": []
          }
        },
        "abd65e2929e548cfb469fc7e718defbc": {
          "model_module": "@jupyter-widgets/base",
          "model_name": "LayoutModel",
          "model_module_version": "1.2.0",
          "state": {
            "_model_module": "@jupyter-widgets/base",
            "_model_module_version": "1.2.0",
            "_model_name": "LayoutModel",
            "_view_count": null,
            "_view_module": "@jupyter-widgets/base",
            "_view_module_version": "1.2.0",
            "_view_name": "LayoutView",
            "align_content": null,
            "align_items": null,
            "align_self": null,
            "border": null,
            "bottom": null,
            "display": null,
            "flex": null,
            "flex_flow": null,
            "grid_area": null,
            "grid_auto_columns": null,
            "grid_auto_flow": null,
            "grid_auto_rows": null,
            "grid_column": null,
            "grid_gap": null,
            "grid_row": null,
            "grid_template_areas": null,
            "grid_template_columns": null,
            "grid_template_rows": null,
            "height": null,
            "justify_content": null,
            "justify_items": null,
            "left": null,
            "margin": null,
            "max_height": null,
            "max_width": null,
            "min_height": null,
            "min_width": null,
            "object_fit": null,
            "object_position": null,
            "order": null,
            "overflow": null,
            "overflow_x": null,
            "overflow_y": null,
            "padding": null,
            "right": null,
            "top": null,
            "visibility": null,
            "width": null
          }
        },
        "7f8c5220ef5b475499f12fa409da43fb": {
          "model_module": "@jupyter-widgets/base",
          "model_name": "LayoutModel",
          "model_module_version": "1.2.0",
          "state": {
            "_model_module": "@jupyter-widgets/base",
            "_model_module_version": "1.2.0",
            "_model_name": "LayoutModel",
            "_view_count": null,
            "_view_module": "@jupyter-widgets/base",
            "_view_module_version": "1.2.0",
            "_view_name": "LayoutView",
            "align_content": null,
            "align_items": null,
            "align_self": null,
            "border": null,
            "bottom": null,
            "display": null,
            "flex": null,
            "flex_flow": null,
            "grid_area": null,
            "grid_auto_columns": null,
            "grid_auto_flow": null,
            "grid_auto_rows": null,
            "grid_column": null,
            "grid_gap": null,
            "grid_row": null,
            "grid_template_areas": null,
            "grid_template_columns": null,
            "grid_template_rows": null,
            "height": null,
            "justify_content": null,
            "justify_items": null,
            "left": null,
            "margin": null,
            "max_height": null,
            "max_width": null,
            "min_height": null,
            "min_width": null,
            "object_fit": null,
            "object_position": null,
            "order": null,
            "overflow": null,
            "overflow_x": null,
            "overflow_y": null,
            "padding": null,
            "right": null,
            "top": null,
            "visibility": null,
            "width": null
          }
        },
        "5bf5a3809a88440495c6986068df99fb": {
          "model_module": "@jupyter-widgets/controls",
          "model_name": "SliderStyleModel",
          "model_module_version": "1.5.0",
          "state": {
            "_model_module": "@jupyter-widgets/controls",
            "_model_module_version": "1.5.0",
            "_model_name": "SliderStyleModel",
            "_view_count": null,
            "_view_module": "@jupyter-widgets/base",
            "_view_module_version": "1.2.0",
            "_view_name": "StyleView",
            "description_width": "",
            "handle_color": null
          }
        },
        "13220c91251e448d9c51a77ac6908173": {
          "model_module": "@jupyter-widgets/base",
          "model_name": "LayoutModel",
          "model_module_version": "1.2.0",
          "state": {
            "_model_module": "@jupyter-widgets/base",
            "_model_module_version": "1.2.0",
            "_model_name": "LayoutModel",
            "_view_count": null,
            "_view_module": "@jupyter-widgets/base",
            "_view_module_version": "1.2.0",
            "_view_name": "LayoutView",
            "align_content": null,
            "align_items": null,
            "align_self": null,
            "border": null,
            "bottom": null,
            "display": null,
            "flex": null,
            "flex_flow": null,
            "grid_area": null,
            "grid_auto_columns": null,
            "grid_auto_flow": null,
            "grid_auto_rows": null,
            "grid_column": null,
            "grid_gap": null,
            "grid_row": null,
            "grid_template_areas": null,
            "grid_template_columns": null,
            "grid_template_rows": null,
            "height": null,
            "justify_content": null,
            "justify_items": null,
            "left": null,
            "margin": null,
            "max_height": null,
            "max_width": null,
            "min_height": null,
            "min_width": null,
            "object_fit": null,
            "object_position": null,
            "order": null,
            "overflow": null,
            "overflow_x": null,
            "overflow_y": null,
            "padding": null,
            "right": null,
            "top": null,
            "visibility": null,
            "width": null
          }
        },
        "31124624f5834d28b1e76ea18b5879aa": {
          "model_module": "@jupyter-widgets/controls",
          "model_name": "ButtonStyleModel",
          "model_module_version": "1.5.0",
          "state": {
            "_model_module": "@jupyter-widgets/controls",
            "_model_module_version": "1.5.0",
            "_model_name": "ButtonStyleModel",
            "_view_count": null,
            "_view_module": "@jupyter-widgets/base",
            "_view_module_version": "1.2.0",
            "_view_name": "StyleView",
            "button_color": null,
            "font_weight": ""
          }
        },
        "635196a51286465abd9625b9902f0986": {
          "model_module": "@jupyter-widgets/base",
          "model_name": "LayoutModel",
          "model_module_version": "1.2.0",
          "state": {
            "_model_module": "@jupyter-widgets/base",
            "_model_module_version": "1.2.0",
            "_model_name": "LayoutModel",
            "_view_count": null,
            "_view_module": "@jupyter-widgets/base",
            "_view_module_version": "1.2.0",
            "_view_name": "LayoutView",
            "align_content": null,
            "align_items": null,
            "align_self": null,
            "border": null,
            "bottom": null,
            "display": null,
            "flex": null,
            "flex_flow": null,
            "grid_area": null,
            "grid_auto_columns": null,
            "grid_auto_flow": null,
            "grid_auto_rows": null,
            "grid_column": null,
            "grid_gap": null,
            "grid_row": null,
            "grid_template_areas": null,
            "grid_template_columns": null,
            "grid_template_rows": null,
            "height": null,
            "justify_content": null,
            "justify_items": null,
            "left": null,
            "margin": null,
            "max_height": null,
            "max_width": null,
            "min_height": null,
            "min_width": null,
            "object_fit": null,
            "object_position": null,
            "order": null,
            "overflow": null,
            "overflow_x": null,
            "overflow_y": null,
            "padding": null,
            "right": null,
            "top": null,
            "visibility": null,
            "width": null
          }
        }
      }
    }
  },
  "cells": [
    {
      "cell_type": "markdown",
      "metadata": {
        "id": "view-in-github",
        "colab_type": "text"
      },
      "source": [
        "<a href=\"https://colab.research.google.com/github/tangYang7/GAI/blob/main/exercise/week2.ipynb\" target=\"_parent\"><img src=\"https://colab.research.google.com/assets/colab-badge.svg\" alt=\"Open In Colab\"/></a>"
      ]
    },
    {
      "cell_type": "markdown",
      "source": [
        "## 0. Import Parkage and Running setting"
      ],
      "metadata": {
        "id": "DbyCx-BH-Elc"
      }
    },
    {
      "cell_type": "code",
      "source": [
        "!pip install gradio"
      ],
      "metadata": {
        "colab": {
          "base_uri": "https://localhost:8080/"
        },
        "id": "HlIWOGmo-MxK",
        "outputId": "151250d9-36b4-48e7-a12d-b40ef827fb09"
      },
      "execution_count": 145,
      "outputs": [
        {
          "output_type": "stream",
          "name": "stdout",
          "text": [
            "Requirement already satisfied: gradio in /usr/local/lib/python3.11/dist-packages (5.20.1)\n",
            "Requirement already satisfied: aiofiles<24.0,>=22.0 in /usr/local/lib/python3.11/dist-packages (from gradio) (23.2.1)\n",
            "Requirement already satisfied: anyio<5.0,>=3.0 in /usr/local/lib/python3.11/dist-packages (from gradio) (3.7.1)\n",
            "Requirement already satisfied: fastapi<1.0,>=0.115.2 in /usr/local/lib/python3.11/dist-packages (from gradio) (0.115.11)\n",
            "Requirement already satisfied: ffmpy in /usr/local/lib/python3.11/dist-packages (from gradio) (0.5.0)\n",
            "Requirement already satisfied: gradio-client==1.7.2 in /usr/local/lib/python3.11/dist-packages (from gradio) (1.7.2)\n",
            "Requirement already satisfied: groovy~=0.1 in /usr/local/lib/python3.11/dist-packages (from gradio) (0.1.2)\n",
            "Requirement already satisfied: httpx>=0.24.1 in /usr/local/lib/python3.11/dist-packages (from gradio) (0.28.1)\n",
            "Requirement already satisfied: huggingface-hub>=0.28.1 in /usr/local/lib/python3.11/dist-packages (from gradio) (0.28.1)\n",
            "Requirement already satisfied: jinja2<4.0 in /usr/local/lib/python3.11/dist-packages (from gradio) (3.1.5)\n",
            "Requirement already satisfied: markupsafe~=2.0 in /usr/local/lib/python3.11/dist-packages (from gradio) (2.1.5)\n",
            "Requirement already satisfied: numpy<3.0,>=1.0 in /usr/local/lib/python3.11/dist-packages (from gradio) (1.26.4)\n",
            "Requirement already satisfied: orjson~=3.0 in /usr/local/lib/python3.11/dist-packages (from gradio) (3.10.15)\n",
            "Requirement already satisfied: packaging in /usr/local/lib/python3.11/dist-packages (from gradio) (24.2)\n",
            "Requirement already satisfied: pandas<3.0,>=1.0 in /usr/local/lib/python3.11/dist-packages (from gradio) (2.2.2)\n",
            "Requirement already satisfied: pillow<12.0,>=8.0 in /usr/local/lib/python3.11/dist-packages (from gradio) (11.1.0)\n",
            "Requirement already satisfied: pydantic>=2.0 in /usr/local/lib/python3.11/dist-packages (from gradio) (2.10.6)\n",
            "Requirement already satisfied: pydub in /usr/local/lib/python3.11/dist-packages (from gradio) (0.25.1)\n",
            "Requirement already satisfied: python-multipart>=0.0.18 in /usr/local/lib/python3.11/dist-packages (from gradio) (0.0.20)\n",
            "Requirement already satisfied: pyyaml<7.0,>=5.0 in /usr/local/lib/python3.11/dist-packages (from gradio) (6.0.2)\n",
            "Requirement already satisfied: ruff>=0.9.3 in /usr/local/lib/python3.11/dist-packages (from gradio) (0.9.10)\n",
            "Requirement already satisfied: safehttpx<0.2.0,>=0.1.6 in /usr/local/lib/python3.11/dist-packages (from gradio) (0.1.6)\n",
            "Requirement already satisfied: semantic-version~=2.0 in /usr/local/lib/python3.11/dist-packages (from gradio) (2.10.0)\n",
            "Requirement already satisfied: starlette<1.0,>=0.40.0 in /usr/local/lib/python3.11/dist-packages (from gradio) (0.46.1)\n",
            "Requirement already satisfied: tomlkit<0.14.0,>=0.12.0 in /usr/local/lib/python3.11/dist-packages (from gradio) (0.13.2)\n",
            "Requirement already satisfied: typer<1.0,>=0.12 in /usr/local/lib/python3.11/dist-packages (from gradio) (0.15.2)\n",
            "Requirement already satisfied: typing-extensions~=4.0 in /usr/local/lib/python3.11/dist-packages (from gradio) (4.12.2)\n",
            "Requirement already satisfied: uvicorn>=0.14.0 in /usr/local/lib/python3.11/dist-packages (from gradio) (0.34.0)\n",
            "Requirement already satisfied: fsspec in /usr/local/lib/python3.11/dist-packages (from gradio-client==1.7.2->gradio) (2024.10.0)\n",
            "Requirement already satisfied: websockets<16.0,>=10.0 in /usr/local/lib/python3.11/dist-packages (from gradio-client==1.7.2->gradio) (14.2)\n",
            "Requirement already satisfied: idna>=2.8 in /usr/local/lib/python3.11/dist-packages (from anyio<5.0,>=3.0->gradio) (3.10)\n",
            "Requirement already satisfied: sniffio>=1.1 in /usr/local/lib/python3.11/dist-packages (from anyio<5.0,>=3.0->gradio) (1.3.1)\n",
            "Requirement already satisfied: certifi in /usr/local/lib/python3.11/dist-packages (from httpx>=0.24.1->gradio) (2025.1.31)\n",
            "Requirement already satisfied: httpcore==1.* in /usr/local/lib/python3.11/dist-packages (from httpx>=0.24.1->gradio) (1.0.7)\n",
            "Requirement already satisfied: h11<0.15,>=0.13 in /usr/local/lib/python3.11/dist-packages (from httpcore==1.*->httpx>=0.24.1->gradio) (0.14.0)\n",
            "Requirement already satisfied: filelock in /usr/local/lib/python3.11/dist-packages (from huggingface-hub>=0.28.1->gradio) (3.17.0)\n",
            "Requirement already satisfied: requests in /usr/local/lib/python3.11/dist-packages (from huggingface-hub>=0.28.1->gradio) (2.32.3)\n",
            "Requirement already satisfied: tqdm>=4.42.1 in /usr/local/lib/python3.11/dist-packages (from huggingface-hub>=0.28.1->gradio) (4.67.1)\n",
            "Requirement already satisfied: python-dateutil>=2.8.2 in /usr/local/lib/python3.11/dist-packages (from pandas<3.0,>=1.0->gradio) (2.8.2)\n",
            "Requirement already satisfied: pytz>=2020.1 in /usr/local/lib/python3.11/dist-packages (from pandas<3.0,>=1.0->gradio) (2025.1)\n",
            "Requirement already satisfied: tzdata>=2022.7 in /usr/local/lib/python3.11/dist-packages (from pandas<3.0,>=1.0->gradio) (2025.1)\n",
            "Requirement already satisfied: annotated-types>=0.6.0 in /usr/local/lib/python3.11/dist-packages (from pydantic>=2.0->gradio) (0.7.0)\n",
            "Requirement already satisfied: pydantic-core==2.27.2 in /usr/local/lib/python3.11/dist-packages (from pydantic>=2.0->gradio) (2.27.2)\n",
            "Requirement already satisfied: click>=8.0.0 in /usr/local/lib/python3.11/dist-packages (from typer<1.0,>=0.12->gradio) (8.1.8)\n",
            "Requirement already satisfied: shellingham>=1.3.0 in /usr/local/lib/python3.11/dist-packages (from typer<1.0,>=0.12->gradio) (1.5.4)\n",
            "Requirement already satisfied: rich>=10.11.0 in /usr/local/lib/python3.11/dist-packages (from typer<1.0,>=0.12->gradio) (13.9.4)\n",
            "Requirement already satisfied: six>=1.5 in /usr/local/lib/python3.11/dist-packages (from python-dateutil>=2.8.2->pandas<3.0,>=1.0->gradio) (1.17.0)\n",
            "Requirement already satisfied: markdown-it-py>=2.2.0 in /usr/local/lib/python3.11/dist-packages (from rich>=10.11.0->typer<1.0,>=0.12->gradio) (3.0.0)\n",
            "Requirement already satisfied: pygments<3.0.0,>=2.13.0 in /usr/local/lib/python3.11/dist-packages (from rich>=10.11.0->typer<1.0,>=0.12->gradio) (2.18.0)\n",
            "Requirement already satisfied: charset-normalizer<4,>=2 in /usr/local/lib/python3.11/dist-packages (from requests->huggingface-hub>=0.28.1->gradio) (3.4.1)\n",
            "Requirement already satisfied: urllib3<3,>=1.21.1 in /usr/local/lib/python3.11/dist-packages (from requests->huggingface-hub>=0.28.1->gradio) (2.3.0)\n",
            "Requirement already satisfied: mdurl~=0.1 in /usr/local/lib/python3.11/dist-packages (from markdown-it-py>=2.2.0->rich>=10.11.0->typer<1.0,>=0.12->gradio) (0.1.2)\n"
          ]
        }
      ]
    },
    {
      "cell_type": "code",
      "source": [
        "%matplotlib inline\n",
        "\n",
        "import numpy as np\n",
        "import matplotlib.pyplot as plt\n",
        "from PIL import Image\n",
        "\n",
        "# for interactive design\n",
        "from ipywidgets import interact_manual\n",
        "\n",
        "# Gradio for creating web apps quickly\n",
        "import gradio as gr\n",
        "\n",
        "import torch\n",
        "import torch.nn as nn\n",
        "import torch.nn.functional as F\n",
        "import torchvision"
      ],
      "metadata": {
        "id": "75ubNMcg-Zjb"
      },
      "execution_count": 146,
      "outputs": []
    },
    {
      "cell_type": "markdown",
      "source": [
        "## 1. Read MNIST Corpus"
      ],
      "metadata": {
        "id": "Y7rc6l4O-0WD"
      }
    },
    {
      "cell_type": "code",
      "source": [
        "trainset=torchvision.datasets.MNIST(root='./data',train=True,download=True,transform=torchvision.transforms.ToTensor())\n",
        "testset=torchvision.datasets.MNIST(root='./data',train=False,download=True,transform=torchvision.transforms.ToTensor())"
      ],
      "metadata": {
        "id": "kMEflmQg_CsY"
      },
      "execution_count": 147,
      "outputs": []
    },
    {
      "cell_type": "markdown",
      "source": [
        "### The training set has 60,000 samples, whereas the test set has 10,000."
      ],
      "metadata": {
        "id": "UFWaA8taAOUO"
      }
    },
    {
      "cell_type": "code",
      "source": [
        "print(f'訓練資料總筆數為 {len(trainset)} 筆資料')\n",
        "print(f'測試資料總筆數為 {len(testset)} 筆資料')"
      ],
      "metadata": {
        "colab": {
          "base_uri": "https://localhost:8080/"
        },
        "id": "cifu0rlS_r93",
        "outputId": "168ec68e-4845-4570-925c-dc2630e0df66"
      },
      "execution_count": 148,
      "outputs": [
        {
          "output_type": "stream",
          "name": "stdout",
          "text": [
            "訓練資料總筆數為 60000 筆資料\n",
            "測試資料總筆數為 10000 筆資料\n"
          ]
        }
      ]
    },
    {
      "cell_type": "code",
      "source": [
        "def dataset_get_xy(input_dataset):\n",
        "    x = torch.stack([image.squeeze(0) for image, _ in input_dataset])\n",
        "    y = torch.tensor([label for _, label in input_dataset])\n",
        "    return x, y\n",
        "\n",
        "train_x, train_y = dataset_get_xy(trainset)\n",
        "test_x, test_y = dataset_get_xy(testset)"
      ],
      "metadata": {
        "id": "0kBs9RpiAFSM"
      },
      "execution_count": 149,
      "outputs": []
    },
    {
      "cell_type": "code",
      "source": [
        "def show_xy(n=0):\n",
        "  ax = plt.gca()\n",
        "  X = train_x[0]\n",
        "  plt.xticks([], [])\n",
        "  plt.yticks([], [])\n",
        "  plt.imshow(X, cmap = 'Greys')\n",
        "  print(f'本資料 y 給定的答案為: {train_y[0]}')"
      ],
      "metadata": {
        "id": "sl2c-E-ZCKnb"
      },
      "execution_count": 150,
      "outputs": []
    },
    {
      "cell_type": "code",
      "source": [
        "interact_manual(show_xy, n=(0,59999));"
      ],
      "metadata": {
        "colab": {
          "base_uri": "https://localhost:8080/",
          "height": 81,
          "referenced_widgets": [
            "b6301599f32543bd9e7ac8b2c92a2658",
            "33886e6ce11e40808430f0846d6cf974",
            "c56c364f82b4455f9df5f5c3951585ea",
            "dbadf9e995b04f368f512b327e06d5f1",
            "36a6e8575f5c4ff39649d75ddad07981",
            "8e392850950e477da239e6b7a3a9d74a",
            "62a87824a0ce47829bc580e11c10d051",
            "e874aec8cbff40f4a280070c36b5c5fe",
            "9d3b442e659b4b359ba57b290bb0201d",
            "9af6bb9bfe074bf9a696973c4c097b91"
          ]
        },
        "id": "Zb9aubsoCayV",
        "outputId": "b5b4a021-977f-484f-f350-88d5b92e549d"
      },
      "execution_count": 151,
      "outputs": [
        {
          "output_type": "display_data",
          "data": {
            "text/plain": [
              "interactive(children=(IntSlider(value=0, description='n', max=59999), Button(description='Run Interact', style…"
            ],
            "application/vnd.jupyter.widget-view+json": {
              "version_major": 2,
              "version_minor": 0,
              "model_id": "b6301599f32543bd9e7ac8b2c92a2658"
            }
          },
          "metadata": {}
        }
      ]
    },
    {
      "cell_type": "code",
      "source": [
        "def show_data(n = 100):\n",
        "  X = train_x[0]\n",
        "  print(X)"
      ],
      "metadata": {
        "id": "8y9VEtu9DXP1"
      },
      "execution_count": 152,
      "outputs": []
    },
    {
      "cell_type": "code",
      "source": [
        "interact_manual(show_data, n=(0,59999));"
      ],
      "metadata": {
        "colab": {
          "base_uri": "https://localhost:8080/",
          "height": 81,
          "referenced_widgets": [
            "f25026d11ef942ba916b52b56165e62e",
            "f111ffadaf684eb988dbacee1fd00ff3",
            "0bd44c9f8f5b45f58d8e7a8db48f934d",
            "55bc6d7e3b0a42d69f717e290de9bf9a",
            "51e71affaa054a698cfd467b5a5bec2f",
            "0ed71371183247b19a7546ec045337ac",
            "4c8fd12dd8e74207881775e81203c3c8",
            "402c0d6d3ca340b6b53b698abaf4b316",
            "b61a78bb8f56464386eb4f4b8f1cb06d",
            "43c115749085434d912842b3acdb3558"
          ]
        },
        "id": "KmbSCdP_DfoW",
        "outputId": "ca4b7412-2706-4b4b-d190-3e02eae73b96"
      },
      "execution_count": 153,
      "outputs": [
        {
          "output_type": "display_data",
          "data": {
            "text/plain": [
              "interactive(children=(IntSlider(value=100, description='n', max=59999), Button(description='Run Interact', sty…"
            ],
            "application/vnd.jupyter.widget-view+json": {
              "version_major": 2,
              "version_minor": 0,
              "model_id": "f25026d11ef942ba916b52b56165e62e"
            }
          },
          "metadata": {}
        }
      ]
    },
    {
      "cell_type": "code",
      "source": [
        "train_x = train_x.reshape(train_x.shape[0], -1)\n",
        "test_x = test_x.reshape(test_x.shape[0], -1)"
      ],
      "metadata": {
        "id": "UO1ual4sGKD7"
      },
      "execution_count": 154,
      "outputs": []
    },
    {
      "cell_type": "markdown",
      "source": [
        "### The label is a number. For training, we convert it into representation of one-hot encoding"
      ],
      "metadata": {
        "id": "KOoS40i6ILYv"
      }
    },
    {
      "cell_type": "code",
      "source": [
        "n = 87\n",
        "train_y[n]"
      ],
      "metadata": {
        "colab": {
          "base_uri": "https://localhost:8080/"
        },
        "id": "pYxFOxUxH86T",
        "outputId": "bfcad32f-b2ca-46a8-f807-de53842caa98"
      },
      "execution_count": 155,
      "outputs": [
        {
          "output_type": "execute_result",
          "data": {
            "text/plain": [
              "tensor(9)"
            ]
          },
          "metadata": {},
          "execution_count": 155
        }
      ]
    },
    {
      "cell_type": "code",
      "source": [
        "train_y = F.one_hot(train_y, num_classes=10)\n",
        "test_y = F.one_hot(test_y, num_classes=10)"
      ],
      "metadata": {
        "id": "RFb6i_nhHlCl"
      },
      "execution_count": 156,
      "outputs": []
    },
    {
      "cell_type": "code",
      "source": [
        "train_y[n]"
      ],
      "metadata": {
        "colab": {
          "base_uri": "https://localhost:8080/"
        },
        "id": "NqhqmDwHH2wK",
        "outputId": "cad28c26-da0c-4831-e537-5fe1f789ec70"
      },
      "execution_count": 157,
      "outputs": [
        {
          "output_type": "execute_result",
          "data": {
            "text/plain": [
              "tensor([0, 0, 0, 0, 0, 0, 0, 0, 0, 1])"
            ]
          },
          "metadata": {},
          "execution_count": 157
        }
      ]
    },
    {
      "cell_type": "markdown",
      "source": [
        "## 3. Build a network model"
      ],
      "metadata": {
        "id": "V5n8cKkgIojy"
      }
    },
    {
      "cell_type": "markdown",
      "source": [
        "我們決定了我們的函數是\n",
        "\n",
        "$$\\hat{f} \\colon \\mathbb{R}^{784} \\to \\mathbb{R}^{10}$$\n",
        "\n",
        "這個樣子。而我們又說第一次要用標準神網路試試, 所以我們只需要再決定要幾個隱藏層、每層要幾個神經元, 用哪個激發函數就可以了。"
      ],
      "metadata": {
        "id": "361-CwmPI-3i"
      }
    },
    {
      "cell_type": "code",
      "execution_count": 158,
      "metadata": {
        "id": "uQaCXMK69JfO"
      },
      "outputs": [],
      "source": [
        "Model_config = {\n",
        "  \"N1_dim\": 20,\n",
        "  \"N2_dim\": 30,\n",
        "  \"N3_dim\": 30,\n",
        "  \"N4_dim\": 20,\n",
        "  \"input_dim\": train_x.shape[1],\n",
        "  \"output_dim\": 10,\n",
        "}"
      ]
    },
    {
      "cell_type": "code",
      "source": [
        "class DNN_Classifier(nn.Module):\n",
        "    def __init__(self, config):\n",
        "        super(DNN_Classifier, self).__init__()\n",
        "        self.fc1 = nn.Linear(784, config[\"N1_dim\"])\n",
        "        self.fc2 = nn.Linear(config[\"N1_dim\"], config[\"N2_dim\"])\n",
        "        self.fc3 = nn.Linear(config[\"N2_dim\"], config[\"N3_dim\"])\n",
        "        self.fc4 = nn.Linear(config[\"N3_dim\"], config[\"N4_dim\"])\n",
        "        self.fc5 = nn.Linear(config[\"N4_dim\"], config[\"output_dim\"])\n",
        "\n",
        "    def forward(self, x):\n",
        "        x = F.relu(self.fc1(x))\n",
        "        x = F.relu(self.fc2(x))\n",
        "        x = F.relu(self.fc3(x))\n",
        "        x = F.relu(self.fc4(x))\n",
        "        x = self.fc5(x)\n",
        "        return x\n",
        "\n",
        "    def decoding(self, x):\n",
        "        logit = F.softmax(x, dim=1)\n",
        "        pred = torch.argmax(logit, dim=1)\n",
        "        return logit, pred"
      ],
      "metadata": {
        "id": "W5643tnIP9D2"
      },
      "execution_count": 159,
      "outputs": []
    },
    {
      "cell_type": "code",
      "source": [
        "model = DNN_Classifier(config=Model_config)\n",
        "model"
      ],
      "metadata": {
        "colab": {
          "base_uri": "https://localhost:8080/"
        },
        "id": "u0AwEJO7wu9Z",
        "outputId": "5634a348-71da-4655-d032-2109891f89e3"
      },
      "execution_count": 160,
      "outputs": [
        {
          "output_type": "execute_result",
          "data": {
            "text/plain": [
              "DNN_Classifier(\n",
              "  (fc1): Linear(in_features=784, out_features=20, bias=True)\n",
              "  (fc2): Linear(in_features=20, out_features=30, bias=True)\n",
              "  (fc3): Linear(in_features=30, out_features=30, bias=True)\n",
              "  (fc4): Linear(in_features=30, out_features=20, bias=True)\n",
              "  (fc5): Linear(in_features=20, out_features=10, bias=True)\n",
              ")"
            ]
          },
          "metadata": {},
          "execution_count": 160
        }
      ]
    },
    {
      "cell_type": "code",
      "source": [
        "training_config = {\n",
        "  \"batch_size\": 100,\n",
        "  \"epoch\": 100,\n",
        "  \"learning_rate\": 0.01,\n",
        "\n",
        "}\n",
        "criterion = nn.CrossEntropyLoss()\n",
        "optimizer = torch.optim.SGD(model.parameters(), lr=training_config[\"learning_rate\"])"
      ],
      "metadata": {
        "id": "QiyuyOsRyEvC"
      },
      "execution_count": 161,
      "outputs": []
    },
    {
      "cell_type": "code",
      "source": [
        "# prompt: training\n",
        "losses = []\n",
        "for epoch in range(training_config[\"epoch\"]):\n",
        "  epoch_loss = 0\n",
        "  for i in range(0, len(train_x), training_config[\"batch_size\"]):\n",
        "    x = train_x[i:i+training_config[\"batch_size\"]]\n",
        "    y = train_y[i:i+training_config[\"batch_size\"]]\n",
        "    optimizer.zero_grad()\n",
        "    y_hat = model(x.float())\n",
        "    loss = criterion(y_hat, y.float())\n",
        "    loss.backward()\n",
        "    optimizer.step()\n",
        "    epoch_loss += loss.item()\n",
        "  losses.append(epoch_loss)\n",
        "  if epoch % 10 == 0:\n",
        "    print(f\"Epoch {epoch+1}/{training_config['epoch']}, Loss: {epoch_loss:.4f}\")"
      ],
      "metadata": {
        "colab": {
          "base_uri": "https://localhost:8080/"
        },
        "id": "Lay1fYpWyWMc",
        "outputId": "b672d323-6d2c-4a4c-90ac-58818ded4bf3"
      },
      "execution_count": 162,
      "outputs": [
        {
          "output_type": "stream",
          "name": "stdout",
          "text": [
            "Epoch 1/100, Loss: 1381.2278\n",
            "Epoch 2/100, Loss: 1373.0972\n",
            "Epoch 3/100, Loss: 1338.0714\n",
            "Epoch 4/100, Loss: 1088.6995\n",
            "Epoch 5/100, Loss: 626.9109\n",
            "Epoch 6/100, Loss: 447.6346\n",
            "Epoch 7/100, Loss: 378.1988\n",
            "Epoch 8/100, Loss: 326.9029\n",
            "Epoch 9/100, Loss: 283.9244\n",
            "Epoch 10/100, Loss: 252.4680\n",
            "Epoch 11/100, Loss: 231.4861\n",
            "Epoch 12/100, Loss: 215.9544\n",
            "Epoch 13/100, Loss: 203.0535\n",
            "Epoch 14/100, Loss: 192.1099\n",
            "Epoch 15/100, Loss: 182.6365\n",
            "Epoch 16/100, Loss: 173.9516\n",
            "Epoch 17/100, Loss: 165.9218\n",
            "Epoch 18/100, Loss: 158.4640\n",
            "Epoch 19/100, Loss: 151.5518\n",
            "Epoch 20/100, Loss: 145.3034\n",
            "Epoch 21/100, Loss: 139.6863\n",
            "Epoch 22/100, Loss: 134.6785\n",
            "Epoch 23/100, Loss: 130.1952\n",
            "Epoch 24/100, Loss: 126.1290\n",
            "Epoch 25/100, Loss: 122.4621\n",
            "Epoch 26/100, Loss: 119.0598\n",
            "Epoch 27/100, Loss: 115.8675\n",
            "Epoch 28/100, Loss: 112.8947\n",
            "Epoch 29/100, Loss: 110.0923\n",
            "Epoch 30/100, Loss: 107.4675\n",
            "Epoch 31/100, Loss: 105.0569\n",
            "Epoch 32/100, Loss: 102.8166\n",
            "Epoch 33/100, Loss: 100.6923\n",
            "Epoch 34/100, Loss: 98.6244\n",
            "Epoch 35/100, Loss: 96.6205\n",
            "Epoch 36/100, Loss: 94.6802\n",
            "Epoch 37/100, Loss: 92.8766\n",
            "Epoch 38/100, Loss: 91.1961\n",
            "Epoch 39/100, Loss: 89.5521\n",
            "Epoch 40/100, Loss: 88.0102\n",
            "Epoch 41/100, Loss: 86.5269\n",
            "Epoch 42/100, Loss: 85.0826\n",
            "Epoch 43/100, Loss: 83.6392\n",
            "Epoch 44/100, Loss: 82.2376\n",
            "Epoch 45/100, Loss: 80.9132\n",
            "Epoch 46/100, Loss: 79.6483\n",
            "Epoch 47/100, Loss: 78.4045\n",
            "Epoch 48/100, Loss: 77.2235\n",
            "Epoch 49/100, Loss: 76.0740\n",
            "Epoch 50/100, Loss: 75.0259\n",
            "Epoch 51/100, Loss: 73.9710\n",
            "Epoch 52/100, Loss: 72.9588\n",
            "Epoch 53/100, Loss: 72.0444\n",
            "Epoch 54/100, Loss: 71.0673\n",
            "Epoch 55/100, Loss: 70.1981\n",
            "Epoch 56/100, Loss: 69.3564\n",
            "Epoch 57/100, Loss: 68.5388\n",
            "Epoch 58/100, Loss: 67.7276\n",
            "Epoch 59/100, Loss: 66.9622\n",
            "Epoch 60/100, Loss: 66.2185\n",
            "Epoch 61/100, Loss: 65.4953\n",
            "Epoch 62/100, Loss: 64.8002\n",
            "Epoch 63/100, Loss: 64.0904\n",
            "Epoch 64/100, Loss: 63.4392\n",
            "Epoch 65/100, Loss: 62.7708\n",
            "Epoch 66/100, Loss: 62.1581\n",
            "Epoch 67/100, Loss: 61.5373\n",
            "Epoch 68/100, Loss: 60.9264\n",
            "Epoch 69/100, Loss: 60.3556\n",
            "Epoch 70/100, Loss: 59.7589\n",
            "Epoch 71/100, Loss: 59.2579\n",
            "Epoch 72/100, Loss: 58.6954\n",
            "Epoch 73/100, Loss: 58.2299\n",
            "Epoch 74/100, Loss: 57.6711\n",
            "Epoch 75/100, Loss: 57.1924\n",
            "Epoch 76/100, Loss: 56.7075\n",
            "Epoch 77/100, Loss: 56.2246\n",
            "Epoch 78/100, Loss: 55.7509\n",
            "Epoch 79/100, Loss: 55.2890\n",
            "Epoch 80/100, Loss: 54.7880\n",
            "Epoch 81/100, Loss: 54.3917\n",
            "Epoch 82/100, Loss: 53.9224\n",
            "Epoch 83/100, Loss: 53.5133\n",
            "Epoch 84/100, Loss: 53.0332\n",
            "Epoch 85/100, Loss: 52.6249\n",
            "Epoch 86/100, Loss: 52.1958\n",
            "Epoch 87/100, Loss: 51.7483\n",
            "Epoch 88/100, Loss: 51.3116\n",
            "Epoch 89/100, Loss: 50.9230\n",
            "Epoch 90/100, Loss: 50.5206\n",
            "Epoch 91/100, Loss: 50.1089\n",
            "Epoch 92/100, Loss: 49.7260\n",
            "Epoch 93/100, Loss: 49.3210\n",
            "Epoch 94/100, Loss: 48.9398\n",
            "Epoch 95/100, Loss: 48.5745\n",
            "Epoch 96/100, Loss: 48.2106\n",
            "Epoch 97/100, Loss: 47.8190\n",
            "Epoch 98/100, Loss: 47.4529\n",
            "Epoch 99/100, Loss: 47.1294\n",
            "Epoch 100/100, Loss: 46.7538\n"
          ]
        }
      ]
    },
    {
      "cell_type": "code",
      "source": [
        "pred = []\n",
        "with torch.no_grad():\n",
        "  test_x = test_x.float()\n",
        "  y_hat = model(test_x)\n",
        "  loss = criterion(y_hat, torch.argmax(test_y.float(), dim=1))\n",
        "\n",
        "  _, predicted = model.decoding(y_hat)\n",
        "  pred.append(predicted)\n",
        "  pred = torch.cat(pred, dim=0)\n",
        "  print(len(pred))\n",
        "  correct = (predicted == torch.argmax(test_y, dim=1)).sum().item()\n",
        "  accuracy = correct / len(test_x)\n",
        "  print(f\"Test Loss: {loss:.4f}\")\n",
        "  print(f\"Test Accuracy: {accuracy * 100:.4f}%\")"
      ],
      "metadata": {
        "colab": {
          "base_uri": "https://localhost:8080/"
        },
        "id": "V8B4nNphzaJ7",
        "outputId": "61e62504-9e8e-40a2-9c3b-bfe8f6d005d6"
      },
      "execution_count": 163,
      "outputs": [
        {
          "output_type": "stream",
          "name": "stdout",
          "text": [
            "10000\n",
            "Test Loss: 0.1676\n",
            "Test Accuracy: 95.5000%\n"
          ]
        }
      ]
    },
    {
      "cell_type": "code",
      "source": [
        "print(len(pred))"
      ],
      "metadata": {
        "colab": {
          "base_uri": "https://localhost:8080/"
        },
        "id": "sueb_V8Q0WwQ",
        "outputId": "0602e9aa-84a6-448b-fb8b-01b93c89b119"
      },
      "execution_count": 164,
      "outputs": [
        {
          "output_type": "stream",
          "name": "stdout",
          "text": [
            "10000\n"
          ]
        }
      ]
    },
    {
      "cell_type": "code",
      "source": [
        "def test(test_id):\n",
        "    plt.imshow(test_x[test_id].reshape(28,28), cmap='Greys')\n",
        "    print('神經網路判斷為:', pred[test_id].item())"
      ],
      "metadata": {
        "id": "yRJ31o9Sz9qA"
      },
      "execution_count": 165,
      "outputs": []
    },
    {
      "cell_type": "code",
      "source": [
        "interact_manual(test, test_id=(0, 9999));"
      ],
      "metadata": {
        "colab": {
          "base_uri": "https://localhost:8080/",
          "height": 81,
          "referenced_widgets": [
            "652ec0352c9d4840976f23d06ac2f023",
            "807a25d1bebb47a29d47721cbbb8bf58",
            "6e4888d6157d4caaba0a35b9b60728b5",
            "5d44d838e59e4ddf9a2c41a1178beca3",
            "abd65e2929e548cfb469fc7e718defbc",
            "7f8c5220ef5b475499f12fa409da43fb",
            "5bf5a3809a88440495c6986068df99fb",
            "13220c91251e448d9c51a77ac6908173",
            "31124624f5834d28b1e76ea18b5879aa",
            "635196a51286465abd9625b9902f0986"
          ]
        },
        "id": "fbq4QkWO0Ifn",
        "outputId": "19dec618-c867-40e1-8be5-e4323b1a21e2"
      },
      "execution_count": 166,
      "outputs": [
        {
          "output_type": "display_data",
          "data": {
            "text/plain": [
              "interactive(children=(IntSlider(value=4999, description='test_id', max=9999), Button(description='Run Interact…"
            ],
            "application/vnd.jupyter.widget-view+json": {
              "version_major": 2,
              "version_minor": 0,
              "model_id": "652ec0352c9d4840976f23d06ac2f023"
            }
          },
          "metadata": {}
        }
      ]
    },
    {
      "cell_type": "code",
      "source": [
        "# prompt: draw confusion matrix\n",
        "\n",
        "import matplotlib.pyplot as plt\n",
        "from sklearn.metrics import confusion_matrix\n",
        "import seaborn as sns\n",
        "\n",
        "# Assuming 'pred' contains your model's predictions and 'test_y' contains the true labels\n",
        "# Convert tensors to numpy arrays if necessary\n",
        "pred_np = pred.numpy()\n",
        "true_labels_np = torch.argmax(test_y, dim=1).numpy()\n",
        "\n",
        "cm = confusion_matrix(true_labels_np, pred_np)\n",
        "\n",
        "plt.figure(figsize=(10, 8))\n",
        "sns.heatmap(cm, annot=True, fmt=\"d\", cmap=\"Blues\")\n",
        "plt.xlabel(\"Predicted\")\n",
        "plt.ylabel(\"True\")\n",
        "plt.title(\"Confusion Matrix\")\n",
        "plt.show()\n"
      ],
      "metadata": {
        "colab": {
          "base_uri": "https://localhost:8080/",
          "height": 718
        },
        "id": "8P5lQGm61B9r",
        "outputId": "885a9941-b356-4bd2-d5b7-6fc511e00695"
      },
      "execution_count": 167,
      "outputs": [
        {
          "output_type": "display_data",
          "data": {
            "text/plain": [
              "<Figure size 1000x800 with 2 Axes>"
            ],
            "image/png": "[encoded data removed]"
          },
          "metadata": {}
        }
      ]
    }
  ]
}