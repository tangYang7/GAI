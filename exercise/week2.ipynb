{
  "nbformat": 4,
  "nbformat_minor": 0,
  "metadata": {
    "colab": {
      "provenance": [],
      "authorship_tag": "ABX9TyOZz9q/6xjxntKMt5Yz3vtp",
      "include_colab_link": true
    },
    "kernelspec": {
      "name": "python3",
      "display_name": "Python 3"
    },
    "language_info": {
      "name": "python"
    },
    "widgets": {
      "application/vnd.jupyter.widget-state+json": {
        "a1f5dbfef25e469c85cdd9e68f356550": {
          "model_module": "@jupyter-widgets/controls",
          "model_name": "VBoxModel",
          "model_module_version": "1.5.0",
          "state": {
            "_dom_classes": [
              "widget-interact"
            ],
            "_model_module": "@jupyter-widgets/controls",
            "_model_module_version": "1.5.0",
            "_model_name": "VBoxModel",
            "_view_count": null,
            "_view_module": "@jupyter-widgets/controls",
            "_view_module_version": "1.5.0",
            "_view_name": "VBoxView",
            "box_style": "",
            "children": [
              "IPY_MODEL_a319255affd14e34925ab2068d0cae16",
              "IPY_MODEL_15e78f635b214391950c956586b1b0c2",
              "IPY_MODEL_4d0221109abd4e8da7e6237c617d54eb"
            ],
            "layout": "IPY_MODEL_34da24a9a5d94590a286f761634f0368"
          }
        },
        "a319255affd14e34925ab2068d0cae16": {
          "model_module": "@jupyter-widgets/controls",
          "model_name": "IntSliderModel",
          "model_module_version": "1.5.0",
          "state": {
            "_dom_classes": [],
            "_model_module": "@jupyter-widgets/controls",
            "_model_module_version": "1.5.0",
            "_model_name": "IntSliderModel",
            "_view_count": null,
            "_view_module": "@jupyter-widgets/controls",
            "_view_module_version": "1.5.0",
            "_view_name": "IntSliderView",
            "continuous_update": true,
            "description": "n",
            "description_tooltip": null,
            "disabled": false,
            "layout": "IPY_MODEL_857a794b37404b699eff6429903a89b4",
            "max": 59999,
            "min": 0,
            "orientation": "horizontal",
            "readout": true,
            "readout_format": "d",
            "step": 1,
            "style": "IPY_MODEL_30c012d5ab0841a59f7981fde4478da8",
            "value": 0
          }
        },
        "15e78f635b214391950c956586b1b0c2": {
          "model_module": "@jupyter-widgets/controls",
          "model_name": "ButtonModel",
          "model_module_version": "1.5.0",
          "state": {
            "_dom_classes": [],
            "_model_module": "@jupyter-widgets/controls",
            "_model_module_version": "1.5.0",
            "_model_name": "ButtonModel",
            "_view_count": null,
            "_view_module": "@jupyter-widgets/controls",
            "_view_module_version": "1.5.0",
            "_view_name": "ButtonView",
            "button_style": "",
            "description": "Run Interact",
            "disabled": false,
            "icon": "",
            "layout": "IPY_MODEL_fc15737391e743768f2a5193d85ec211",
            "style": "IPY_MODEL_c2df99a17d2d4c7997477e14a70de7f0",
            "tooltip": ""
          }
        },
        "4d0221109abd4e8da7e6237c617d54eb": {
          "model_module": "@jupyter-widgets/output",
          "model_name": "OutputModel",
          "model_module_version": "1.0.0",
          "state": {
            "_dom_classes": [],
            "_model_module": "@jupyter-widgets/output",
            "_model_module_version": "1.0.0",
            "_model_name": "OutputModel",
            "_view_count": null,
            "_view_module": "@jupyter-widgets/output",
            "_view_module_version": "1.0.0",
            "_view_name": "OutputView",
            "layout": "IPY_MODEL_4111108532044308ae4f0f8720b50373",
            "msg_id": "",
            "outputs": []
          }
        },
        "34da24a9a5d94590a286f761634f0368": {
          "model_module": "@jupyter-widgets/base",
          "model_name": "LayoutModel",
          "model_module_version": "1.2.0",
          "state": {
            "_model_module": "@jupyter-widgets/base",
            "_model_module_version": "1.2.0",
            "_model_name": "LayoutModel",
            "_view_count": null,
            "_view_module": "@jupyter-widgets/base",
            "_view_module_version": "1.2.0",
            "_view_name": "LayoutView",
            "align_content": null,
            "align_items": null,
            "align_self": null,
            "border": null,
            "bottom": null,
            "display": null,
            "flex": null,
            "flex_flow": null,
            "grid_area": null,
            "grid_auto_columns": null,
            "grid_auto_flow": null,
            "grid_auto_rows": null,
            "grid_column": null,
            "grid_gap": null,
            "grid_row": null,
            "grid_template_areas": null,
            "grid_template_columns": null,
            "grid_template_rows": null,
            "height": null,
            "justify_content": null,
            "justify_items": null,
            "left": null,
            "margin": null,
            "max_height": null,
            "max_width": null,
            "min_height": null,
            "min_width": null,
            "object_fit": null,
            "object_position": null,
            "order": null,
            "overflow": null,
            "overflow_x": null,
            "overflow_y": null,
            "padding": null,
            "right": null,
            "top": null,
            "visibility": null,
            "width": null
          }
        },
        "857a794b37404b699eff6429903a89b4": {
          "model_module": "@jupyter-widgets/base",
          "model_name": "LayoutModel",
          "model_module_version": "1.2.0",
          "state": {
            "_model_module": "@jupyter-widgets/base",
            "_model_module_version": "1.2.0",
            "_model_name": "LayoutModel",
            "_view_count": null,
            "_view_module": "@jupyter-widgets/base",
            "_view_module_version": "1.2.0",
            "_view_name": "LayoutView",
            "align_content": null,
            "align_items": null,
            "align_self": null,
            "border": null,
            "bottom": null,
            "display": null,
            "flex": null,
            "flex_flow": null,
            "grid_area": null,
            "grid_auto_columns": null,
            "grid_auto_flow": null,
            "grid_auto_rows": null,
            "grid_column": null,
            "grid_gap": null,
            "grid_row": null,
            "grid_template_areas": null,
            "grid_template_columns": null,
            "grid_template_rows": null,
            "height": null,
            "justify_content": null,
            "justify_items": null,
            "left": null,
            "margin": null,
            "max_height": null,
            "max_width": null,
            "min_height": null,
            "min_width": null,
            "object_fit": null,
            "object_position": null,
            "order": null,
            "overflow": null,
            "overflow_x": null,
            "overflow_y": null,
            "padding": null,
            "right": null,
            "top": null,
            "visibility": null,
            "width": null
          }
        },
        "30c012d5ab0841a59f7981fde4478da8": {
          "model_module": "@jupyter-widgets/controls",
          "model_name": "SliderStyleModel",
          "model_module_version": "1.5.0",
          "state": {
            "_model_module": "@jupyter-widgets/controls",
            "_model_module_version": "1.5.0",
            "_model_name": "SliderStyleModel",
            "_view_count": null,
            "_view_module": "@jupyter-widgets/base",
            "_view_module_version": "1.2.0",
            "_view_name": "StyleView",
            "description_width": "",
            "handle_color": null
          }
        },
        "fc15737391e743768f2a5193d85ec211": {
          "model_module": "@jupyter-widgets/base",
          "model_name": "LayoutModel",
          "model_module_version": "1.2.0",
          "state": {
            "_model_module": "@jupyter-widgets/base",
            "_model_module_version": "1.2.0",
            "_model_name": "LayoutModel",
            "_view_count": null,
            "_view_module": "@jupyter-widgets/base",
            "_view_module_version": "1.2.0",
            "_view_name": "LayoutView",
            "align_content": null,
            "align_items": null,
            "align_self": null,
            "border": null,
            "bottom": null,
            "display": null,
            "flex": null,
            "flex_flow": null,
            "grid_area": null,
            "grid_auto_columns": null,
            "grid_auto_flow": null,
            "grid_auto_rows": null,
            "grid_column": null,
            "grid_gap": null,
            "grid_row": null,
            "grid_template_areas": null,
            "grid_template_columns": null,
            "grid_template_rows": null,
            "height": null,
            "justify_content": null,
            "justify_items": null,
            "left": null,
            "margin": null,
            "max_height": null,
            "max_width": null,
            "min_height": null,
            "min_width": null,
            "object_fit": null,
            "object_position": null,
            "order": null,
            "overflow": null,
            "overflow_x": null,
            "overflow_y": null,
            "padding": null,
            "right": null,
            "top": null,
            "visibility": null,
            "width": null
          }
        },
        "c2df99a17d2d4c7997477e14a70de7f0": {
          "model_module": "@jupyter-widgets/controls",
          "model_name": "ButtonStyleModel",
          "model_module_version": "1.5.0",
          "state": {
            "_model_module": "@jupyter-widgets/controls",
            "_model_module_version": "1.5.0",
            "_model_name": "ButtonStyleModel",
            "_view_count": null,
            "_view_module": "@jupyter-widgets/base",
            "_view_module_version": "1.2.0",
            "_view_name": "StyleView",
            "button_color": null,
            "font_weight": ""
          }
        },
        "4111108532044308ae4f0f8720b50373": {
          "model_module": "@jupyter-widgets/base",
          "model_name": "LayoutModel",
          "model_module_version": "1.2.0",
          "state": {
            "_model_module": "@jupyter-widgets/base",
            "_model_module_version": "1.2.0",
            "_model_name": "LayoutModel",
            "_view_count": null,
            "_view_module": "@jupyter-widgets/base",
            "_view_module_version": "1.2.0",
            "_view_name": "LayoutView",
            "align_content": null,
            "align_items": null,
            "align_self": null,
            "border": null,
            "bottom": null,
            "display": null,
            "flex": null,
            "flex_flow": null,
            "grid_area": null,
            "grid_auto_columns": null,
            "grid_auto_flow": null,
            "grid_auto_rows": null,
            "grid_column": null,
            "grid_gap": null,
            "grid_row": null,
            "grid_template_areas": null,
            "grid_template_columns": null,
            "grid_template_rows": null,
            "height": null,
            "justify_content": null,
            "justify_items": null,
            "left": null,
            "margin": null,
            "max_height": null,
            "max_width": null,
            "min_height": null,
            "min_width": null,
            "object_fit": null,
            "object_position": null,
            "order": null,
            "overflow": null,
            "overflow_x": null,
            "overflow_y": null,
            "padding": null,
            "right": null,
            "top": null,
            "visibility": null,
            "width": null
          }
        },
        "17c4cb780abc4bd19315f5dee1fef6ca": {
          "model_module": "@jupyter-widgets/controls",
          "model_name": "VBoxModel",
          "model_module_version": "1.5.0",
          "state": {
            "_dom_classes": [
              "widget-interact"
            ],
            "_model_module": "@jupyter-widgets/controls",
            "_model_module_version": "1.5.0",
            "_model_name": "VBoxModel",
            "_view_count": null,
            "_view_module": "@jupyter-widgets/controls",
            "_view_module_version": "1.5.0",
            "_view_name": "VBoxView",
            "box_style": "",
            "children": [
              "IPY_MODEL_1e393d8d31ea4639b86cd857085370ac",
              "IPY_MODEL_fab051ba8a5143b8a46baeedb937c744",
              "IPY_MODEL_236cf6a5d2a844e6a51219b6bf1e2da8"
            ],
            "layout": "IPY_MODEL_2082ec788984481ab0b29e618fc8720a"
          }
        },
        "1e393d8d31ea4639b86cd857085370ac": {
          "model_module": "@jupyter-widgets/controls",
          "model_name": "IntSliderModel",
          "model_module_version": "1.5.0",
          "state": {
            "_dom_classes": [],
            "_model_module": "@jupyter-widgets/controls",
            "_model_module_version": "1.5.0",
            "_model_name": "IntSliderModel",
            "_view_count": null,
            "_view_module": "@jupyter-widgets/controls",
            "_view_module_version": "1.5.0",
            "_view_name": "IntSliderView",
            "continuous_update": true,
            "description": "n",
            "description_tooltip": null,
            "disabled": false,
            "layout": "IPY_MODEL_eb7cceba2c084aa0acfc6220f2be35e3",
            "max": 59999,
            "min": 0,
            "orientation": "horizontal",
            "readout": true,
            "readout_format": "d",
            "step": 1,
            "style": "IPY_MODEL_38fc62d7a6bb4237b50e023f992e31f9",
            "value": 100
          }
        },
        "fab051ba8a5143b8a46baeedb937c744": {
          "model_module": "@jupyter-widgets/controls",
          "model_name": "ButtonModel",
          "model_module_version": "1.5.0",
          "state": {
            "_dom_classes": [],
            "_model_module": "@jupyter-widgets/controls",
            "_model_module_version": "1.5.0",
            "_model_name": "ButtonModel",
            "_view_count": null,
            "_view_module": "@jupyter-widgets/controls",
            "_view_module_version": "1.5.0",
            "_view_name": "ButtonView",
            "button_style": "",
            "description": "Run Interact",
            "disabled": false,
            "icon": "",
            "layout": "IPY_MODEL_2e67fbc1f2af489eb22309e733d4e9dd",
            "style": "IPY_MODEL_4c61fa1dc204482d850f4a9b185a165b",
            "tooltip": ""
          }
        },
        "236cf6a5d2a844e6a51219b6bf1e2da8": {
          "model_module": "@jupyter-widgets/output",
          "model_name": "OutputModel",
          "model_module_version": "1.0.0",
          "state": {
            "_dom_classes": [],
            "_model_module": "@jupyter-widgets/output",
            "_model_module_version": "1.0.0",
            "_model_name": "OutputModel",
            "_view_count": null,
            "_view_module": "@jupyter-widgets/output",
            "_view_module_version": "1.0.0",
            "_view_name": "OutputView",
            "layout": "IPY_MODEL_ec70715b48b14161909ae52e12b215b6",
            "msg_id": "",
            "outputs": []
          }
        },
        "2082ec788984481ab0b29e618fc8720a": {
          "model_module": "@jupyter-widgets/base",
          "model_name": "LayoutModel",
          "model_module_version": "1.2.0",
          "state": {
            "_model_module": "@jupyter-widgets/base",
            "_model_module_version": "1.2.0",
            "_model_name": "LayoutModel",
            "_view_count": null,
            "_view_module": "@jupyter-widgets/base",
            "_view_module_version": "1.2.0",
            "_view_name": "LayoutView",
            "align_content": null,
            "align_items": null,
            "align_self": null,
            "border": null,
            "bottom": null,
            "display": null,
            "flex": null,
            "flex_flow": null,
            "grid_area": null,
            "grid_auto_columns": null,
            "grid_auto_flow": null,
            "grid_auto_rows": null,
            "grid_column": null,
            "grid_gap": null,
            "grid_row": null,
            "grid_template_areas": null,
            "grid_template_columns": null,
            "grid_template_rows": null,
            "height": null,
            "justify_content": null,
            "justify_items": null,
            "left": null,
            "margin": null,
            "max_height": null,
            "max_width": null,
            "min_height": null,
            "min_width": null,
            "object_fit": null,
            "object_position": null,
            "order": null,
            "overflow": null,
            "overflow_x": null,
            "overflow_y": null,
            "padding": null,
            "right": null,
            "top": null,
            "visibility": null,
            "width": null
          }
        },
        "eb7cceba2c084aa0acfc6220f2be35e3": {
          "model_module": "@jupyter-widgets/base",
          "model_name": "LayoutModel",
          "model_module_version": "1.2.0",
          "state": {
            "_model_module": "@jupyter-widgets/base",
            "_model_module_version": "1.2.0",
            "_model_name": "LayoutModel",
            "_view_count": null,
            "_view_module": "@jupyter-widgets/base",
            "_view_module_version": "1.2.0",
            "_view_name": "LayoutView",
            "align_content": null,
            "align_items": null,
            "align_self": null,
            "border": null,
            "bottom": null,
            "display": null,
            "flex": null,
            "flex_flow": null,
            "grid_area": null,
            "grid_auto_columns": null,
            "grid_auto_flow": null,
            "grid_auto_rows": null,
            "grid_column": null,
            "grid_gap": null,
            "grid_row": null,
            "grid_template_areas": null,
            "grid_template_columns": null,
            "grid_template_rows": null,
            "height": null,
            "justify_content": null,
            "justify_items": null,
            "left": null,
            "margin": null,
            "max_height": null,
            "max_width": null,
            "min_height": null,
            "min_width": null,
            "object_fit": null,
            "object_position": null,
            "order": null,
            "overflow": null,
            "overflow_x": null,
            "overflow_y": null,
            "padding": null,
            "right": null,
            "top": null,
            "visibility": null,
            "width": null
          }
        },
        "38fc62d7a6bb4237b50e023f992e31f9": {
          "model_module": "@jupyter-widgets/controls",
          "model_name": "SliderStyleModel",
          "model_module_version": "1.5.0",
          "state": {
            "_model_module": "@jupyter-widgets/controls",
            "_model_module_version": "1.5.0",
            "_model_name": "SliderStyleModel",
            "_view_count": null,
            "_view_module": "@jupyter-widgets/base",
            "_view_module_version": "1.2.0",
            "_view_name": "StyleView",
            "description_width": "",
            "handle_color": null
          }
        },
        "2e67fbc1f2af489eb22309e733d4e9dd": {
          "model_module": "@jupyter-widgets/base",
          "model_name": "LayoutModel",
          "model_module_version": "1.2.0",
          "state": {
            "_model_module": "@jupyter-widgets/base",
            "_model_module_version": "1.2.0",
            "_model_name": "LayoutModel",
            "_view_count": null,
            "_view_module": "@jupyter-widgets/base",
            "_view_module_version": "1.2.0",
            "_view_name": "LayoutView",
            "align_content": null,
            "align_items": null,
            "align_self": null,
            "border": null,
            "bottom": null,
            "display": null,
            "flex": null,
            "flex_flow": null,
            "grid_area": null,
            "grid_auto_columns": null,
            "grid_auto_flow": null,
            "grid_auto_rows": null,
            "grid_column": null,
            "grid_gap": null,
            "grid_row": null,
            "grid_template_areas": null,
            "grid_template_columns": null,
            "grid_template_rows": null,
            "height": null,
            "justify_content": null,
            "justify_items": null,
            "left": null,
            "margin": null,
            "max_height": null,
            "max_width": null,
            "min_height": null,
            "min_width": null,
            "object_fit": null,
            "object_position": null,
            "order": null,
            "overflow": null,
            "overflow_x": null,
            "overflow_y": null,
            "padding": null,
            "right": null,
            "top": null,
            "visibility": null,
            "width": null
          }
        },
        "4c61fa1dc204482d850f4a9b185a165b": {
          "model_module": "@jupyter-widgets/controls",
          "model_name": "ButtonStyleModel",
          "model_module_version": "1.5.0",
          "state": {
            "_model_module": "@jupyter-widgets/controls",
            "_model_module_version": "1.5.0",
            "_model_name": "ButtonStyleModel",
            "_view_count": null,
            "_view_module": "@jupyter-widgets/base",
            "_view_module_version": "1.2.0",
            "_view_name": "StyleView",
            "button_color": null,
            "font_weight": ""
          }
        },
        "ec70715b48b14161909ae52e12b215b6": {
          "model_module": "@jupyter-widgets/base",
          "model_name": "LayoutModel",
          "model_module_version": "1.2.0",
          "state": {
            "_model_module": "@jupyter-widgets/base",
            "_model_module_version": "1.2.0",
            "_model_name": "LayoutModel",
            "_view_count": null,
            "_view_module": "@jupyter-widgets/base",
            "_view_module_version": "1.2.0",
            "_view_name": "LayoutView",
            "align_content": null,
            "align_items": null,
            "align_self": null,
            "border": null,
            "bottom": null,
            "display": null,
            "flex": null,
            "flex_flow": null,
            "grid_area": null,
            "grid_auto_columns": null,
            "grid_auto_flow": null,
            "grid_auto_rows": null,
            "grid_column": null,
            "grid_gap": null,
            "grid_row": null,
            "grid_template_areas": null,
            "grid_template_columns": null,
            "grid_template_rows": null,
            "height": null,
            "justify_content": null,
            "justify_items": null,
            "left": null,
            "margin": null,
            "max_height": null,
            "max_width": null,
            "min_height": null,
            "min_width": null,
            "object_fit": null,
            "object_position": null,
            "order": null,
            "overflow": null,
            "overflow_x": null,
            "overflow_y": null,
            "padding": null,
            "right": null,
            "top": null,
            "visibility": null,
            "width": null
          }
        },
        "07e8556977c04d83ba73c753ab579db6": {
          "model_module": "@jupyter-widgets/controls",
          "model_name": "VBoxModel",
          "model_module_version": "1.5.0",
          "state": {
            "_dom_classes": [
              "widget-interact"
            ],
            "_model_module": "@jupyter-widgets/controls",
            "_model_module_version": "1.5.0",
            "_model_name": "VBoxModel",
            "_view_count": null,
            "_view_module": "@jupyter-widgets/controls",
            "_view_module_version": "1.5.0",
            "_view_name": "VBoxView",
            "box_style": "",
            "children": [
              "IPY_MODEL_569ed2de61ac4e3e8d5ed0f2067b4e37",
              "IPY_MODEL_3f81f5a1e4ac4da68072aad396a67957",
              "IPY_MODEL_19f229ef729a4d8c9396c9a4b41d0950"
            ],
            "layout": "IPY_MODEL_ee194452f779458b856574b77f34905b"
          }
        },
        "569ed2de61ac4e3e8d5ed0f2067b4e37": {
          "model_module": "@jupyter-widgets/controls",
          "model_name": "IntSliderModel",
          "model_module_version": "1.5.0",
          "state": {
            "_dom_classes": [],
            "_model_module": "@jupyter-widgets/controls",
            "_model_module_version": "1.5.0",
            "_model_name": "IntSliderModel",
            "_view_count": null,
            "_view_module": "@jupyter-widgets/controls",
            "_view_module_version": "1.5.0",
            "_view_name": "IntSliderView",
            "continuous_update": true,
            "description": "test_id",
            "description_tooltip": null,
            "disabled": false,
            "layout": "IPY_MODEL_24cdea38e97b4ee8aa74081f476a5bac",
            "max": 9999,
            "min": 0,
            "orientation": "horizontal",
            "readout": true,
            "readout_format": "d",
            "step": 1,
            "style": "IPY_MODEL_88f7733f673a4115b1a6ecca977bc5a8",
            "value": 3951
          }
        },
        "3f81f5a1e4ac4da68072aad396a67957": {
          "model_module": "@jupyter-widgets/controls",
          "model_name": "ButtonModel",
          "model_module_version": "1.5.0",
          "state": {
            "_dom_classes": [],
            "_model_module": "@jupyter-widgets/controls",
            "_model_module_version": "1.5.0",
            "_model_name": "ButtonModel",
            "_view_count": null,
            "_view_module": "@jupyter-widgets/controls",
            "_view_module_version": "1.5.0",
            "_view_name": "ButtonView",
            "button_style": "",
            "description": "Run Interact",
            "disabled": false,
            "icon": "",
            "layout": "IPY_MODEL_a220df1c500a4263b9071e9a4e35d513",
            "style": "IPY_MODEL_d03b63c43ac5428a854f5e7008f0841b",
            "tooltip": ""
          }
        },
        "19f229ef729a4d8c9396c9a4b41d0950": {
          "model_module": "@jupyter-widgets/output",
          "model_name": "OutputModel",
          "model_module_version": "1.0.0",
          "state": {
            "_dom_classes": [],
            "_model_module": "@jupyter-widgets/output",
            "_model_module_version": "1.0.0",
            "_model_name": "OutputModel",
            "_view_count": null,
            "_view_module": "@jupyter-widgets/output",
            "_view_module_version": "1.0.0",
            "_view_name": "OutputView",
            "layout": "IPY_MODEL_ae29c317561a4570a284605eec2b6690",
            "msg_id": "",
            "outputs": [
              {
                "output_type": "stream",
                "name": "stdout",
                "text": [
                  "神經網路判斷為: 0\n"
                ]
              },
              {
                "output_type": "display_data",
                "data": {
                  "text/plain": "<Figure size 200x200 with 1 Axes>",
                  "image/png": "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\n"
                },
                "metadata": {}
              }
            ]
          }
        },
        "ee194452f779458b856574b77f34905b": {
          "model_module": "@jupyter-widgets/base",
          "model_name": "LayoutModel",
          "model_module_version": "1.2.0",
          "state": {
            "_model_module": "@jupyter-widgets/base",
            "_model_module_version": "1.2.0",
            "_model_name": "LayoutModel",
            "_view_count": null,
            "_view_module": "@jupyter-widgets/base",
            "_view_module_version": "1.2.0",
            "_view_name": "LayoutView",
            "align_content": null,
            "align_items": null,
            "align_self": null,
            "border": null,
            "bottom": null,
            "display": null,
            "flex": null,
            "flex_flow": null,
            "grid_area": null,
            "grid_auto_columns": null,
            "grid_auto_flow": null,
            "grid_auto_rows": null,
            "grid_column": null,
            "grid_gap": null,
            "grid_row": null,
            "grid_template_areas": null,
            "grid_template_columns": null,
            "grid_template_rows": null,
            "height": null,
            "justify_content": null,
            "justify_items": null,
            "left": null,
            "margin": null,
            "max_height": null,
            "max_width": null,
            "min_height": null,
            "min_width": null,
            "object_fit": null,
            "object_position": null,
            "order": null,
            "overflow": null,
            "overflow_x": null,
            "overflow_y": null,
            "padding": null,
            "right": null,
            "top": null,
            "visibility": null,
            "width": null
          }
        },
        "24cdea38e97b4ee8aa74081f476a5bac": {
          "model_module": "@jupyter-widgets/base",
          "model_name": "LayoutModel",
          "model_module_version": "1.2.0",
          "state": {
            "_model_module": "@jupyter-widgets/base",
            "_model_module_version": "1.2.0",
            "_model_name": "LayoutModel",
            "_view_count": null,
            "_view_module": "@jupyter-widgets/base",
            "_view_module_version": "1.2.0",
            "_view_name": "LayoutView",
            "align_content": null,
            "align_items": null,
            "align_self": null,
            "border": null,
            "bottom": null,
            "display": null,
            "flex": null,
            "flex_flow": null,
            "grid_area": null,
            "grid_auto_columns": null,
            "grid_auto_flow": null,
            "grid_auto_rows": null,
            "grid_column": null,
            "grid_gap": null,
            "grid_row": null,
            "grid_template_areas": null,
            "grid_template_columns": null,
            "grid_template_rows": null,
            "height": null,
            "justify_content": null,
            "justify_items": null,
            "left": null,
            "margin": null,
            "max_height": null,
            "max_width": null,
            "min_height": null,
            "min_width": null,
            "object_fit": null,
            "object_position": null,
            "order": null,
            "overflow": null,
            "overflow_x": null,
            "overflow_y": null,
            "padding": null,
            "right": null,
            "top": null,
            "visibility": null,
            "width": null
          }
        },
        "88f7733f673a4115b1a6ecca977bc5a8": {
          "model_module": "@jupyter-widgets/controls",
          "model_name": "SliderStyleModel",
          "model_module_version": "1.5.0",
          "state": {
            "_model_module": "@jupyter-widgets/controls",
            "_model_module_version": "1.5.0",
            "_model_name": "SliderStyleModel",
            "_view_count": null,
            "_view_module": "@jupyter-widgets/base",
            "_view_module_version": "1.2.0",
            "_view_name": "StyleView",
            "description_width": "",
            "handle_color": null
          }
        },
        "a220df1c500a4263b9071e9a4e35d513": {
          "model_module": "@jupyter-widgets/base",
          "model_name": "LayoutModel",
          "model_module_version": "1.2.0",
          "state": {
            "_model_module": "@jupyter-widgets/base",
            "_model_module_version": "1.2.0",
            "_model_name": "LayoutModel",
            "_view_count": null,
            "_view_module": "@jupyter-widgets/base",
            "_view_module_version": "1.2.0",
            "_view_name": "LayoutView",
            "align_content": null,
            "align_items": null,
            "align_self": null,
            "border": null,
            "bottom": null,
            "display": null,
            "flex": null,
            "flex_flow": null,
            "grid_area": null,
            "grid_auto_columns": null,
            "grid_auto_flow": null,
            "grid_auto_rows": null,
            "grid_column": null,
            "grid_gap": null,
            "grid_row": null,
            "grid_template_areas": null,
            "grid_template_columns": null,
            "grid_template_rows": null,
            "height": null,
            "justify_content": null,
            "justify_items": null,
            "left": null,
            "margin": null,
            "max_height": null,
            "max_width": null,
            "min_height": null,
            "min_width": null,
            "object_fit": null,
            "object_position": null,
            "order": null,
            "overflow": null,
            "overflow_x": null,
            "overflow_y": null,
            "padding": null,
            "right": null,
            "top": null,
            "visibility": null,
            "width": null
          }
        },
        "d03b63c43ac5428a854f5e7008f0841b": {
          "model_module": "@jupyter-widgets/controls",
          "model_name": "ButtonStyleModel",
          "model_module_version": "1.5.0",
          "state": {
            "_model_module": "@jupyter-widgets/controls",
            "_model_module_version": "1.5.0",
            "_model_name": "ButtonStyleModel",
            "_view_count": null,
            "_view_module": "@jupyter-widgets/base",
            "_view_module_version": "1.2.0",
            "_view_name": "StyleView",
            "button_color": null,
            "font_weight": ""
          }
        },
        "ae29c317561a4570a284605eec2b6690": {
          "model_module": "@jupyter-widgets/base",
          "model_name": "LayoutModel",
          "model_module_version": "1.2.0",
          "state": {
            "_model_module": "@jupyter-widgets/base",
            "_model_module_version": "1.2.0",
            "_model_name": "LayoutModel",
            "_view_count": null,
            "_view_module": "@jupyter-widgets/base",
            "_view_module_version": "1.2.0",
            "_view_name": "LayoutView",
            "align_content": null,
            "align_items": null,
            "align_self": null,
            "border": null,
            "bottom": null,
            "display": null,
            "flex": null,
            "flex_flow": null,
            "grid_area": null,
            "grid_auto_columns": null,
            "grid_auto_flow": null,
            "grid_auto_rows": null,
            "grid_column": null,
            "grid_gap": null,
            "grid_row": null,
            "grid_template_areas": null,
            "grid_template_columns": null,
            "grid_template_rows": null,
            "height": null,
            "justify_content": null,
            "justify_items": null,
            "left": null,
            "margin": null,
            "max_height": null,
            "max_width": null,
            "min_height": null,
            "min_width": null,
            "object_fit": null,
            "object_position": null,
            "order": null,
            "overflow": null,
            "overflow_x": null,
            "overflow_y": null,
            "padding": null,
            "right": null,
            "top": null,
            "visibility": null,
            "width": null
          }
        }
      }
    }
  },
  "cells": [
    {
      "cell_type": "markdown",
      "metadata": {
        "id": "view-in-github",
        "colab_type": "text"
      },
      "source": [
        "<a href=\"https://colab.research.google.com/github/tangYang7/GAI/blob/main/exercise/week2.ipynb\" target=\"_parent\"><img src=\"https://colab.research.google.com/assets/colab-badge.svg\" alt=\"Open In Colab\"/></a>"
      ]
    },
    {
      "cell_type": "markdown",
      "source": [
        "## 0. Install and Import Parkage"
      ],
      "metadata": {
        "id": "DbyCx-BH-Elc"
      }
    },
    {
      "cell_type": "code",
      "source": [
        "!pip install gradio"
      ],
      "metadata": {
        "colab": {
          "base_uri": "https://localhost:8080/"
        },
        "id": "HlIWOGmo-MxK",
        "outputId": "9029fa74-de44-48cd-b87e-ebbcc1f31d07"
      },
      "execution_count": null,
      "outputs": [
        {
          "output_type": "stream",
          "name": "stdout",
          "text": [
            "Requirement already satisfied: gradio in /usr/local/lib/python3.11/dist-packages (5.20.1)\n",
            "Requirement already satisfied: aiofiles<24.0,>=22.0 in /usr/local/lib/python3.11/dist-packages (from gradio) (23.2.1)\n",
            "Requirement already satisfied: anyio<5.0,>=3.0 in /usr/local/lib/python3.11/dist-packages (from gradio) (3.7.1)\n",
            "Requirement already satisfied: fastapi<1.0,>=0.115.2 in /usr/local/lib/python3.11/dist-packages (from gradio) (0.115.11)\n",
            "Requirement already satisfied: ffmpy in /usr/local/lib/python3.11/dist-packages (from gradio) (0.5.0)\n",
            "Requirement already satisfied: gradio-client==1.7.2 in /usr/local/lib/python3.11/dist-packages (from gradio) (1.7.2)\n",
            "Requirement already satisfied: groovy~=0.1 in /usr/local/lib/python3.11/dist-packages (from gradio) (0.1.2)\n",
            "Requirement already satisfied: httpx>=0.24.1 in /usr/local/lib/python3.11/dist-packages (from gradio) (0.28.1)\n",
            "Requirement already satisfied: huggingface-hub>=0.28.1 in /usr/local/lib/python3.11/dist-packages (from gradio) (0.28.1)\n",
            "Requirement already satisfied: jinja2<4.0 in /usr/local/lib/python3.11/dist-packages (from gradio) (3.1.5)\n",
            "Requirement already satisfied: markupsafe~=2.0 in /usr/local/lib/python3.11/dist-packages (from gradio) (2.1.5)\n",
            "Requirement already satisfied: numpy<3.0,>=1.0 in /usr/local/lib/python3.11/dist-packages (from gradio) (1.26.4)\n",
            "Requirement already satisfied: orjson~=3.0 in /usr/local/lib/python3.11/dist-packages (from gradio) (3.10.15)\n",
            "Requirement already satisfied: packaging in /usr/local/lib/python3.11/dist-packages (from gradio) (24.2)\n",
            "Requirement already satisfied: pandas<3.0,>=1.0 in /usr/local/lib/python3.11/dist-packages (from gradio) (2.2.2)\n",
            "Requirement already satisfied: pillow<12.0,>=8.0 in /usr/local/lib/python3.11/dist-packages (from gradio) (11.1.0)\n",
            "Requirement already satisfied: pydantic>=2.0 in /usr/local/lib/python3.11/dist-packages (from gradio) (2.10.6)\n",
            "Requirement already satisfied: pydub in /usr/local/lib/python3.11/dist-packages (from gradio) (0.25.1)\n",
            "Requirement already satisfied: python-multipart>=0.0.18 in /usr/local/lib/python3.11/dist-packages (from gradio) (0.0.20)\n",
            "Requirement already satisfied: pyyaml<7.0,>=5.0 in /usr/local/lib/python3.11/dist-packages (from gradio) (6.0.2)\n",
            "Requirement already satisfied: ruff>=0.9.3 in /usr/local/lib/python3.11/dist-packages (from gradio) (0.9.10)\n",
            "Requirement already satisfied: safehttpx<0.2.0,>=0.1.6 in /usr/local/lib/python3.11/dist-packages (from gradio) (0.1.6)\n",
            "Requirement already satisfied: semantic-version~=2.0 in /usr/local/lib/python3.11/dist-packages (from gradio) (2.10.0)\n",
            "Requirement already satisfied: starlette<1.0,>=0.40.0 in /usr/local/lib/python3.11/dist-packages (from gradio) (0.46.1)\n",
            "Requirement already satisfied: tomlkit<0.14.0,>=0.12.0 in /usr/local/lib/python3.11/dist-packages (from gradio) (0.13.2)\n",
            "Requirement already satisfied: typer<1.0,>=0.12 in /usr/local/lib/python3.11/dist-packages (from gradio) (0.15.2)\n",
            "Requirement already satisfied: typing-extensions~=4.0 in /usr/local/lib/python3.11/dist-packages (from gradio) (4.12.2)\n",
            "Requirement already satisfied: uvicorn>=0.14.0 in /usr/local/lib/python3.11/dist-packages (from gradio) (0.34.0)\n",
            "Requirement already satisfied: fsspec in /usr/local/lib/python3.11/dist-packages (from gradio-client==1.7.2->gradio) (2024.10.0)\n",
            "Requirement already satisfied: websockets<16.0,>=10.0 in /usr/local/lib/python3.11/dist-packages (from gradio-client==1.7.2->gradio) (14.2)\n",
            "Requirement already satisfied: idna>=2.8 in /usr/local/lib/python3.11/dist-packages (from anyio<5.0,>=3.0->gradio) (3.10)\n",
            "Requirement already satisfied: sniffio>=1.1 in /usr/local/lib/python3.11/dist-packages (from anyio<5.0,>=3.0->gradio) (1.3.1)\n",
            "Requirement already satisfied: certifi in /usr/local/lib/python3.11/dist-packages (from httpx>=0.24.1->gradio) (2025.1.31)\n",
            "Requirement already satisfied: httpcore==1.* in /usr/local/lib/python3.11/dist-packages (from httpx>=0.24.1->gradio) (1.0.7)\n",
            "Requirement already satisfied: h11<0.15,>=0.13 in /usr/local/lib/python3.11/dist-packages (from httpcore==1.*->httpx>=0.24.1->gradio) (0.14.0)\n",
            "Requirement already satisfied: filelock in /usr/local/lib/python3.11/dist-packages (from huggingface-hub>=0.28.1->gradio) (3.17.0)\n",
            "Requirement already satisfied: requests in /usr/local/lib/python3.11/dist-packages (from huggingface-hub>=0.28.1->gradio) (2.32.3)\n",
            "Requirement already satisfied: tqdm>=4.42.1 in /usr/local/lib/python3.11/dist-packages (from huggingface-hub>=0.28.1->gradio) (4.67.1)\n",
            "Requirement already satisfied: python-dateutil>=2.8.2 in /usr/local/lib/python3.11/dist-packages (from pandas<3.0,>=1.0->gradio) (2.8.2)\n",
            "Requirement already satisfied: pytz>=2020.1 in /usr/local/lib/python3.11/dist-packages (from pandas<3.0,>=1.0->gradio) (2025.1)\n",
            "Requirement already satisfied: tzdata>=2022.7 in /usr/local/lib/python3.11/dist-packages (from pandas<3.0,>=1.0->gradio) (2025.1)\n",
            "Requirement already satisfied: annotated-types>=0.6.0 in /usr/local/lib/python3.11/dist-packages (from pydantic>=2.0->gradio) (0.7.0)\n",
            "Requirement already satisfied: pydantic-core==2.27.2 in /usr/local/lib/python3.11/dist-packages (from pydantic>=2.0->gradio) (2.27.2)\n",
            "Requirement already satisfied: click>=8.0.0 in /usr/local/lib/python3.11/dist-packages (from typer<1.0,>=0.12->gradio) (8.1.8)\n",
            "Requirement already satisfied: shellingham>=1.3.0 in /usr/local/lib/python3.11/dist-packages (from typer<1.0,>=0.12->gradio) (1.5.4)\n",
            "Requirement already satisfied: rich>=10.11.0 in /usr/local/lib/python3.11/dist-packages (from typer<1.0,>=0.12->gradio) (13.9.4)\n",
            "Requirement already satisfied: six>=1.5 in /usr/local/lib/python3.11/dist-packages (from python-dateutil>=2.8.2->pandas<3.0,>=1.0->gradio) (1.17.0)\n",
            "Requirement already satisfied: markdown-it-py>=2.2.0 in /usr/local/lib/python3.11/dist-packages (from rich>=10.11.0->typer<1.0,>=0.12->gradio) (3.0.0)\n",
            "Requirement already satisfied: pygments<3.0.0,>=2.13.0 in /usr/local/lib/python3.11/dist-packages (from rich>=10.11.0->typer<1.0,>=0.12->gradio) (2.18.0)\n",
            "Requirement already satisfied: charset-normalizer<4,>=2 in /usr/local/lib/python3.11/dist-packages (from requests->huggingface-hub>=0.28.1->gradio) (3.4.1)\n",
            "Requirement already satisfied: urllib3<3,>=1.21.1 in /usr/local/lib/python3.11/dist-packages (from requests->huggingface-hub>=0.28.1->gradio) (2.3.0)\n",
            "Requirement already satisfied: mdurl~=0.1 in /usr/local/lib/python3.11/dist-packages (from markdown-it-py>=2.2.0->rich>=10.11.0->typer<1.0,>=0.12->gradio) (0.1.2)\n"
          ]
        }
      ]
    },
    {
      "cell_type": "code",
      "source": [
        "%matplotlib inline\n",
        "\n",
        "import numpy as np\n",
        "import matplotlib.pyplot as plt\n",
        "from PIL import Image\n",
        "\n",
        "# for interactive design\n",
        "from ipywidgets import interact_manual\n",
        "\n",
        "# Gradio for creating web apps quickly\n",
        "import gradio as gr\n",
        "\n",
        "import torch\n",
        "import torch.nn as nn\n",
        "import torch.nn.functional as F\n",
        "import torchvision"
      ],
      "metadata": {
        "id": "75ubNMcg-Zjb"
      },
      "execution_count": null,
      "outputs": []
    },
    {
      "cell_type": "markdown",
      "source": [
        "## 1. Read MNIST Corpus and Pre-processing"
      ],
      "metadata": {
        "id": "Y7rc6l4O-0WD"
      }
    },
    {
      "cell_type": "markdown",
      "source": [
        "MNIST is a library of handwritten numerical images with a bunch of 0-9. There are 60,000 training data and 10,000 test data. It is the \"Modified\" version of the NIST database, and the original version has more information. This Modified version was made by LeCun, Cortes, and Burges. You can refer to the [original web page of this database](http://yann.lecun.com/exdb/mnist/).\n",
        "\n",
        "\n",
        "\n",
        "MNIST can be said to be the most famous example of Deep Learning, and it is called the \"drosophile of machine learning\" by Deep Learning master Hinton."
      ],
      "metadata": {
        "id": "S3ByBEnGCOGP"
      }
    },
    {
      "cell_type": "code",
      "source": [
        "trainset=torchvision.datasets.MNIST(root='./data',train=True,download=True,transform=torchvision.transforms.ToTensor())\n",
        "testset=torchvision.datasets.MNIST(root='./data',train=False,download=True,transform=torchvision.transforms.ToTensor())"
      ],
      "metadata": {
        "id": "kMEflmQg_CsY"
      },
      "execution_count": null,
      "outputs": []
    },
    {
      "cell_type": "markdown",
      "source": [
        "### The training set has 60,000 samples, whereas the test set has 10,000."
      ],
      "metadata": {
        "id": "UFWaA8taAOUO"
      }
    },
    {
      "cell_type": "code",
      "source": [
        "print(f'訓練資料總筆數為 {len(trainset)} 筆資料')\n",
        "print(f'測試資料總筆數為 {len(testset)} 筆資料')"
      ],
      "metadata": {
        "colab": {
          "base_uri": "https://localhost:8080/"
        },
        "id": "cifu0rlS_r93",
        "outputId": "3dd8492f-28bf-4e97-e295-e4f1eaed9fbc"
      },
      "execution_count": null,
      "outputs": [
        {
          "output_type": "stream",
          "name": "stdout",
          "text": [
            "訓練資料總筆數為 60000 筆資料\n",
            "測試資料總筆數為 10000 筆資料\n"
          ]
        }
      ]
    },
    {
      "cell_type": "code",
      "source": [
        "def dataset_get_xy(input_dataset):\n",
        "    x = torch.stack([image.squeeze(0) for image, _ in input_dataset])\n",
        "    y = torch.tensor([label for _, label in input_dataset])\n",
        "    return x, y\n",
        "\n",
        "train_x, train_y = dataset_get_xy(trainset)\n",
        "test_x, test_y = dataset_get_xy(testset)"
      ],
      "metadata": {
        "id": "0kBs9RpiAFSM"
      },
      "execution_count": null,
      "outputs": []
    },
    {
      "cell_type": "markdown",
      "source": [
        "### Take a look at the picture and label"
      ],
      "metadata": {
        "id": "WXD0rXAR7Okh"
      }
    },
    {
      "cell_type": "code",
      "source": [
        "def show_xy(n=0):\n",
        "  ax = plt.gca()\n",
        "  X = train_x[n]\n",
        "  plt.xticks([], [])\n",
        "  plt.yticks([], [])\n",
        "  plt.imshow(X, cmap = 'Greys')\n",
        "  print(f'本資料 y 給定的答案為: {train_y[n]}')"
      ],
      "metadata": {
        "id": "sl2c-E-ZCKnb"
      },
      "execution_count": null,
      "outputs": []
    },
    {
      "cell_type": "code",
      "source": [
        "interact_manual(show_xy, n=(0,59999));"
      ],
      "metadata": {
        "colab": {
          "base_uri": "https://localhost:8080/",
          "height": 81,
          "referenced_widgets": [
            "a1f5dbfef25e469c85cdd9e68f356550",
            "a319255affd14e34925ab2068d0cae16",
            "15e78f635b214391950c956586b1b0c2",
            "4d0221109abd4e8da7e6237c617d54eb",
            "34da24a9a5d94590a286f761634f0368",
            "857a794b37404b699eff6429903a89b4",
            "30c012d5ab0841a59f7981fde4478da8",
            "fc15737391e743768f2a5193d85ec211",
            "c2df99a17d2d4c7997477e14a70de7f0",
            "4111108532044308ae4f0f8720b50373"
          ]
        },
        "id": "Zb9aubsoCayV",
        "outputId": "d0a21370-bf63-4195-83fd-17cc17871b73"
      },
      "execution_count": null,
      "outputs": [
        {
          "output_type": "display_data",
          "data": {
            "text/plain": [
              "interactive(children=(IntSlider(value=0, description='n', max=59999), Button(description='Run Interact', style…"
            ],
            "application/vnd.jupyter.widget-view+json": {
              "version_major": 2,
              "version_minor": 0,
              "model_id": "a1f5dbfef25e469c85cdd9e68f356550"
            }
          },
          "metadata": {}
        }
      ]
    },
    {
      "cell_type": "markdown",
      "source": [
        "#### Example of above results:"
      ],
      "metadata": {
        "id": "8jn3ajOd6_aI"
      }
    },
    {
      "cell_type": "markdown",
      "source": [
        "![image.png](data:image/png;base64,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)"
      ],
      "metadata": {
        "id": "jVZQVMnQ66KD"
      }
    },
    {
      "cell_type": "markdown",
      "source": [
        "### Take a look at the data"
      ],
      "metadata": {
        "id": "LPV9Zxw97pYg"
      }
    },
    {
      "cell_type": "code",
      "source": [
        "def show_data(n = 100):\n",
        "  X = train_x[n]\n",
        "  print(X.shape)\n",
        "  print(X)"
      ],
      "metadata": {
        "id": "8y9VEtu9DXP1"
      },
      "execution_count": null,
      "outputs": []
    },
    {
      "cell_type": "code",
      "source": [
        "interact_manual(show_data, n=(0,59999));"
      ],
      "metadata": {
        "colab": {
          "base_uri": "https://localhost:8080/",
          "height": 81,
          "referenced_widgets": [
            "17c4cb780abc4bd19315f5dee1fef6ca",
            "1e393d8d31ea4639b86cd857085370ac",
            "fab051ba8a5143b8a46baeedb937c744",
            "236cf6a5d2a844e6a51219b6bf1e2da8",
            "2082ec788984481ab0b29e618fc8720a",
            "eb7cceba2c084aa0acfc6220f2be35e3",
            "38fc62d7a6bb4237b50e023f992e31f9",
            "2e67fbc1f2af489eb22309e733d4e9dd",
            "4c61fa1dc204482d850f4a9b185a165b",
            "ec70715b48b14161909ae52e12b215b6"
          ]
        },
        "id": "KmbSCdP_DfoW",
        "outputId": "d4868ab8-7aef-49a7-fd0f-4121ed1295bf"
      },
      "execution_count": null,
      "outputs": [
        {
          "output_type": "display_data",
          "data": {
            "text/plain": [
              "interactive(children=(IntSlider(value=100, description='n', max=59999), Button(description='Run Interact', sty…"
            ],
            "application/vnd.jupyter.widget-view+json": {
              "version_major": 2,
              "version_minor": 0,
              "model_id": "17c4cb780abc4bd19315f5dee1fef6ca"
            }
          },
          "metadata": {}
        }
      ]
    },
    {
      "cell_type": "code",
      "source": [
        "train_x = train_x.reshape(train_x.shape[0], -1)\n",
        "test_x = test_x.reshape(test_x.shape[0], -1)"
      ],
      "metadata": {
        "id": "UO1ual4sGKD7"
      },
      "execution_count": null,
      "outputs": []
    },
    {
      "cell_type": "markdown",
      "source": [
        "### The label is a number. For training, we convert it into representation of one-hot encoding"
      ],
      "metadata": {
        "id": "KOoS40i6ILYv"
      }
    },
    {
      "cell_type": "code",
      "source": [
        "n = 87\n",
        "train_y[n]"
      ],
      "metadata": {
        "colab": {
          "base_uri": "https://localhost:8080/"
        },
        "id": "pYxFOxUxH86T",
        "outputId": "60fa72aa-b031-4a28-fb8e-86ed2494f36e"
      },
      "execution_count": null,
      "outputs": [
        {
          "output_type": "execute_result",
          "data": {
            "text/plain": [
              "tensor(9)"
            ]
          },
          "metadata": {},
          "execution_count": 192
        }
      ]
    },
    {
      "cell_type": "code",
      "source": [
        "train_y = F.one_hot(train_y, num_classes=10)\n",
        "test_y = F.one_hot(test_y, num_classes=10)"
      ],
      "metadata": {
        "id": "RFb6i_nhHlCl"
      },
      "execution_count": null,
      "outputs": []
    },
    {
      "cell_type": "code",
      "source": [
        "train_y[n]"
      ],
      "metadata": {
        "colab": {
          "base_uri": "https://localhost:8080/"
        },
        "id": "NqhqmDwHH2wK",
        "outputId": "ee31ebb7-7bce-4609-9050-567587f93744"
      },
      "execution_count": null,
      "outputs": [
        {
          "output_type": "execute_result",
          "data": {
            "text/plain": [
              "tensor([0, 0, 0, 0, 0, 0, 0, 0, 0, 1])"
            ]
          },
          "metadata": {},
          "execution_count": 194
        }
      ]
    },
    {
      "cell_type": "markdown",
      "source": [
        "## 2. Build a network model"
      ],
      "metadata": {
        "id": "V5n8cKkgIojy"
      }
    },
    {
      "cell_type": "markdown",
      "source": [
        "我們決定了我們的函數是\n",
        "\n",
        "$$\\hat{f} \\colon \\mathbb{R}^{784} \\to \\mathbb{R}^{10}$$\n",
        "\n",
        "這個樣子。而我們又說第一次要用標準神網路試試, 所以我們只需要再決定要幾個隱藏層、每層要幾個神經元, 用哪個激發函數就可以了。"
      ],
      "metadata": {
        "id": "361-CwmPI-3i"
      }
    },
    {
      "cell_type": "code",
      "execution_count": null,
      "metadata": {
        "id": "uQaCXMK69JfO"
      },
      "outputs": [],
      "source": [
        "Model_config = {\n",
        "  \"N1_dim\": 20,\n",
        "  \"N2_dim\": 30,\n",
        "  \"N3_dim\": 30,\n",
        "  \"N4_dim\": 20,\n",
        "  \"input_dim\": train_x.shape[1],\n",
        "  \"output_dim\": 10,\n",
        "}"
      ]
    },
    {
      "cell_type": "code",
      "source": [
        "class DNN_Classifier(nn.Module):\n",
        "    def __init__(self, config):\n",
        "        super(DNN_Classifier, self).__init__()\n",
        "        self.fc1 = nn.Linear(784, config[\"N1_dim\"])\n",
        "        self.fc2 = nn.Linear(config[\"N1_dim\"], config[\"N2_dim\"])\n",
        "        self.fc3 = nn.Linear(config[\"N2_dim\"], config[\"N3_dim\"])\n",
        "        self.fc4 = nn.Linear(config[\"N3_dim\"], config[\"N4_dim\"])\n",
        "        self.fc5 = nn.Linear(config[\"N4_dim\"], config[\"output_dim\"])\n",
        "\n",
        "    def forward(self, x):\n",
        "        x = F.relu(self.fc1(x))\n",
        "        x = F.relu(self.fc2(x))\n",
        "        x = F.relu(self.fc3(x))\n",
        "        x = F.relu(self.fc4(x))\n",
        "        x = self.fc5(x)\n",
        "        return x\n",
        "\n",
        "    def decoding(self, x):\n",
        "        logit = F.softmax(x, dim=1)\n",
        "        pred = torch.argmax(logit, dim=1)\n",
        "        return logit, pred"
      ],
      "metadata": {
        "id": "W5643tnIP9D2"
      },
      "execution_count": null,
      "outputs": []
    },
    {
      "cell_type": "code",
      "source": [
        "model = DNN_Classifier(config=Model_config)\n",
        "model"
      ],
      "metadata": {
        "colab": {
          "base_uri": "https://localhost:8080/"
        },
        "id": "u0AwEJO7wu9Z",
        "outputId": "2d6a4c22-945a-42bc-f09c-cd4c8069838f"
      },
      "execution_count": null,
      "outputs": [
        {
          "output_type": "execute_result",
          "data": {
            "text/plain": [
              "DNN_Classifier(\n",
              "  (fc1): Linear(in_features=784, out_features=20, bias=True)\n",
              "  (fc2): Linear(in_features=20, out_features=30, bias=True)\n",
              "  (fc3): Linear(in_features=30, out_features=30, bias=True)\n",
              "  (fc4): Linear(in_features=30, out_features=20, bias=True)\n",
              "  (fc5): Linear(in_features=20, out_features=10, bias=True)\n",
              ")"
            ]
          },
          "metadata": {},
          "execution_count": 197
        }
      ]
    },
    {
      "cell_type": "markdown",
      "source": [
        "## 3. Training"
      ],
      "metadata": {
        "id": "xKnhEC0-8KPZ"
      }
    },
    {
      "cell_type": "code",
      "source": [
        "training_config = {\n",
        "  \"batch_size\": 100,\n",
        "  \"epoch\": 100,\n",
        "  \"learning_rate\": 0.01,\n",
        "\n",
        "}\n",
        "criterion = nn.CrossEntropyLoss()\n",
        "optimizer = torch.optim.SGD(model.parameters(), lr=training_config[\"learning_rate\"])"
      ],
      "metadata": {
        "id": "QiyuyOsRyEvC"
      },
      "execution_count": null,
      "outputs": []
    },
    {
      "cell_type": "code",
      "source": [
        "# prompt: training (generated by AI)\n",
        "losses = []\n",
        "for epoch in range(training_config[\"epoch\"]):\n",
        "  epoch_loss = 0\n",
        "  for i in range(0, len(train_x), training_config[\"batch_size\"]):\n",
        "    x = train_x[i:i+training_config[\"batch_size\"]]\n",
        "    y = train_y[i:i+training_config[\"batch_size\"]]\n",
        "    optimizer.zero_grad()\n",
        "    y_hat = model(x.float())\n",
        "    loss = criterion(y_hat, y.float())\n",
        "    loss.backward()\n",
        "    optimizer.step()\n",
        "    epoch_loss += loss.item()\n",
        "  losses.append(epoch_loss)\n",
        "  if epoch % 10 == 0 or epoch == training_config[\"epoch\"] - 1:\n",
        "    print(f\"Epoch {epoch+1}/{training_config['epoch']}, Loss: {epoch_loss:.4f}\")"
      ],
      "metadata": {
        "colab": {
          "base_uri": "https://localhost:8080/"
        },
        "id": "Lay1fYpWyWMc",
        "outputId": "5a1a97f0-ee88-4f88-ebf2-37ed76d6a5f8"
      },
      "execution_count": null,
      "outputs": [
        {
          "output_type": "stream",
          "name": "stdout",
          "text": [
            "Epoch 1/100, Loss: 50.2333\n",
            "Epoch 11/100, Loss: 46.8568\n",
            "Epoch 21/100, Loss: 43.5986\n",
            "Epoch 31/100, Loss: 40.7086\n",
            "Epoch 41/100, Loss: 38.1179\n",
            "Epoch 51/100, Loss: 35.6740\n",
            "Epoch 61/100, Loss: 33.2596\n",
            "Epoch 71/100, Loss: 31.2156\n",
            "Epoch 81/100, Loss: 29.2001\n",
            "Epoch 91/100, Loss: 27.2360\n",
            "Epoch 100/100, Loss: 26.0182\n"
          ]
        }
      ]
    },
    {
      "cell_type": "markdown",
      "source": [
        "## 4. Evaluate in testset"
      ],
      "metadata": {
        "id": "MaMPntgh8Qig"
      }
    },
    {
      "cell_type": "code",
      "source": [
        "pred = []\n",
        "with torch.no_grad():\n",
        "  test_x = test_x.float()\n",
        "  y_hat = model(test_x)\n",
        "  loss = criterion(y_hat, torch.argmax(test_y.float(), dim=1))\n",
        "\n",
        "  _, predicted = model.decoding(y_hat)\n",
        "  pred.append(predicted)\n",
        "  pred = torch.cat(pred, dim=0)\n",
        "  print(len(pred))\n",
        "  correct = (predicted == torch.argmax(test_y, dim=1)).sum().item()\n",
        "  accuracy = correct / len(test_x)\n",
        "  print(f\"Test Loss: {loss:.4f}\")\n",
        "  print(f\"Test Accuracy: {accuracy * 100:.4f}%\")"
      ],
      "metadata": {
        "colab": {
          "base_uri": "https://localhost:8080/"
        },
        "id": "V8B4nNphzaJ7",
        "outputId": "5319cd5f-625e-43b8-863e-6498d4d050a1"
      },
      "execution_count": null,
      "outputs": [
        {
          "output_type": "stream",
          "name": "stdout",
          "text": [
            "10000\n",
            "Test Loss: 0.2308\n",
            "Test Accuracy: 95.1600%\n"
          ]
        }
      ]
    },
    {
      "cell_type": "code",
      "source": [
        "def test(test_id):\n",
        "    plt.imshow(test_x[test_id].reshape(28,28), cmap='Greys')\n",
        "    print('神經網路判斷為:', pred[test_id].item())"
      ],
      "metadata": {
        "id": "yRJ31o9Sz9qA"
      },
      "execution_count": null,
      "outputs": []
    },
    {
      "cell_type": "code",
      "source": [
        "interact_manual(test, test_id=(0, 9999));"
      ],
      "metadata": {
        "colab": {
          "base_uri": "https://localhost:8080/",
          "height": 299,
          "referenced_widgets": [
            "07e8556977c04d83ba73c753ab579db6",
            "569ed2de61ac4e3e8d5ed0f2067b4e37",
            "3f81f5a1e4ac4da68072aad396a67957",
            "19f229ef729a4d8c9396c9a4b41d0950",
            "ee194452f779458b856574b77f34905b",
            "24cdea38e97b4ee8aa74081f476a5bac",
            "88f7733f673a4115b1a6ecca977bc5a8",
            "a220df1c500a4263b9071e9a4e35d513",
            "d03b63c43ac5428a854f5e7008f0841b",
            "ae29c317561a4570a284605eec2b6690"
          ]
        },
        "id": "fbq4QkWO0Ifn",
        "outputId": "dc2b3f1c-84b3-4de6-c59d-60be656ee03f"
      },
      "execution_count": null,
      "outputs": [
        {
          "output_type": "display_data",
          "data": {
            "text/plain": [
              "interactive(children=(IntSlider(value=4999, description='test_id', max=9999), Button(description='Run Interact…"
            ],
            "application/vnd.jupyter.widget-view+json": {
              "version_major": 2,
              "version_minor": 0,
              "model_id": "07e8556977c04d83ba73c753ab579db6"
            }
          },
          "metadata": {}
        }
      ]
    },
    {
      "cell_type": "markdown",
      "source": [
        "### the correct and wrong examples of prediction:\n",
        "![image.png](data:image/png;base64,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)\n",
        "![image.png](data:image/png;base64,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)"
      ],
      "metadata": {
        "id": "vplZcb0v9k6i"
      }
    },
    {
      "cell_type": "markdown",
      "source": [
        "### Draw confusion matrix (generated by AI)"
      ],
      "metadata": {
        "id": "oNPBZFuW-AZJ"
      }
    },
    {
      "cell_type": "code",
      "source": [
        "import matplotlib.pyplot as plt\n",
        "from sklearn.metrics import confusion_matrix\n",
        "import seaborn as sns\n",
        "\n",
        "pred_np = pred.numpy()\n",
        "true_labels_np = torch.argmax(test_y, dim=1).numpy()\n",
        "\n",
        "cm = confusion_matrix(true_labels_np, pred_np)\n",
        "\n",
        "plt.figure(figsize=(10, 8))\n",
        "sns.heatmap(cm, annot=True, fmt=\"d\", cmap=\"Blues\")\n",
        "plt.xlabel(\"Predicted\")\n",
        "plt.ylabel(\"True\")\n",
        "plt.title(\"Confusion Matrix\")\n",
        "plt.show()\n"
      ],
      "metadata": {
        "colab": {
          "base_uri": "https://localhost:8080/",
          "height": 718
        },
        "id": "8P5lQGm61B9r",
        "outputId": "221513da-68ee-4e38-fb83-40891c2bc7d8"
      },
      "execution_count": null,
      "outputs": [
        {
          "output_type": "display_data",
          "data": {
            "text/plain": [
              "<Figure size 1000x800 with 2 Axes>"
            ],
            "image/png": "[encoded data removed]"
          },
          "metadata": {}
        }
      ]
    },
    {
      "cell_type": "markdown",
      "source": [
        "### Results and Discussion:\n",
        "- The model performs well on most samples.\n",
        "- The most easily confused pairs for the model are:\n",
        "  - 5 and 3\n",
        "  - 4 and 9\n",
        "  - 5 and 8"
      ],
      "metadata": {
        "id": "rxb0FY_o-KzH"
      }
    }
  ]
}